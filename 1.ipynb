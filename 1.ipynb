{
 "cells": [
  {
   "cell_type": "markdown",
   "metadata": {},
   "source": [
    "SMAI, Assignment-3, Q-1,2,3"
   ]
  },
  {
   "cell_type": "code",
   "execution_count": 1,
   "metadata": {},
   "outputs": [],
   "source": [
    "import numpy as np\n",
    "import pandas as pd\n",
    "import matplotlib.pyplot as plt \n",
    "from sklearn.model_selection import train_test_split\n",
    "from sklearn import preprocessing\n",
    "from sklearn.metrics import classification_report\n",
    "from sklearn.metrics import accuracy_score, f1_score, confusion_matrix, precision_score, recall_score"
   ]
  },
  {
   "cell_type": "markdown",
   "metadata": {},
   "source": [
    "# Question: 1"
   ]
  },
  {
   "cell_type": "code",
   "execution_count": 2,
   "metadata": {},
   "outputs": [
    {
     "data": {
      "text/html": [
       "<div>\n",
       "<style scoped>\n",
       "    .dataframe tbody tr th:only-of-type {\n",
       "        vertical-align: middle;\n",
       "    }\n",
       "\n",
       "    .dataframe tbody tr th {\n",
       "        vertical-align: top;\n",
       "    }\n",
       "\n",
       "    .dataframe thead th {\n",
       "        text-align: right;\n",
       "    }\n",
       "</style>\n",
       "<table border=\"1\" class=\"dataframe\">\n",
       "  <thead>\n",
       "    <tr style=\"text-align: right;\">\n",
       "      <th></th>\n",
       "      <th>fixed acidity</th>\n",
       "      <th>volatile acidity</th>\n",
       "      <th>citric acid</th>\n",
       "      <th>residual sugar</th>\n",
       "      <th>chlorides</th>\n",
       "      <th>free sulfur dioxide</th>\n",
       "      <th>total sulfur dioxide</th>\n",
       "      <th>density</th>\n",
       "      <th>pH</th>\n",
       "      <th>sulphates</th>\n",
       "      <th>alcohol</th>\n",
       "      <th>quality</th>\n",
       "      <th>Id</th>\n",
       "    </tr>\n",
       "  </thead>\n",
       "  <tbody>\n",
       "    <tr>\n",
       "      <th>0</th>\n",
       "      <td>7.4</td>\n",
       "      <td>0.700</td>\n",
       "      <td>0.00</td>\n",
       "      <td>1.9</td>\n",
       "      <td>0.076</td>\n",
       "      <td>11.0</td>\n",
       "      <td>34.0</td>\n",
       "      <td>0.99780</td>\n",
       "      <td>3.51</td>\n",
       "      <td>0.56</td>\n",
       "      <td>9.4</td>\n",
       "      <td>5</td>\n",
       "      <td>0</td>\n",
       "    </tr>\n",
       "    <tr>\n",
       "      <th>1</th>\n",
       "      <td>7.8</td>\n",
       "      <td>0.880</td>\n",
       "      <td>0.00</td>\n",
       "      <td>2.6</td>\n",
       "      <td>0.098</td>\n",
       "      <td>25.0</td>\n",
       "      <td>67.0</td>\n",
       "      <td>0.99680</td>\n",
       "      <td>3.20</td>\n",
       "      <td>0.68</td>\n",
       "      <td>9.8</td>\n",
       "      <td>5</td>\n",
       "      <td>1</td>\n",
       "    </tr>\n",
       "    <tr>\n",
       "      <th>2</th>\n",
       "      <td>7.8</td>\n",
       "      <td>0.760</td>\n",
       "      <td>0.04</td>\n",
       "      <td>2.3</td>\n",
       "      <td>0.092</td>\n",
       "      <td>15.0</td>\n",
       "      <td>54.0</td>\n",
       "      <td>0.99700</td>\n",
       "      <td>3.26</td>\n",
       "      <td>0.65</td>\n",
       "      <td>9.8</td>\n",
       "      <td>5</td>\n",
       "      <td>2</td>\n",
       "    </tr>\n",
       "    <tr>\n",
       "      <th>3</th>\n",
       "      <td>11.2</td>\n",
       "      <td>0.280</td>\n",
       "      <td>0.56</td>\n",
       "      <td>1.9</td>\n",
       "      <td>0.075</td>\n",
       "      <td>17.0</td>\n",
       "      <td>60.0</td>\n",
       "      <td>0.99800</td>\n",
       "      <td>3.16</td>\n",
       "      <td>0.58</td>\n",
       "      <td>9.8</td>\n",
       "      <td>6</td>\n",
       "      <td>3</td>\n",
       "    </tr>\n",
       "    <tr>\n",
       "      <th>4</th>\n",
       "      <td>7.4</td>\n",
       "      <td>0.700</td>\n",
       "      <td>0.00</td>\n",
       "      <td>1.9</td>\n",
       "      <td>0.076</td>\n",
       "      <td>11.0</td>\n",
       "      <td>34.0</td>\n",
       "      <td>0.99780</td>\n",
       "      <td>3.51</td>\n",
       "      <td>0.56</td>\n",
       "      <td>9.4</td>\n",
       "      <td>5</td>\n",
       "      <td>4</td>\n",
       "    </tr>\n",
       "    <tr>\n",
       "      <th>...</th>\n",
       "      <td>...</td>\n",
       "      <td>...</td>\n",
       "      <td>...</td>\n",
       "      <td>...</td>\n",
       "      <td>...</td>\n",
       "      <td>...</td>\n",
       "      <td>...</td>\n",
       "      <td>...</td>\n",
       "      <td>...</td>\n",
       "      <td>...</td>\n",
       "      <td>...</td>\n",
       "      <td>...</td>\n",
       "      <td>...</td>\n",
       "    </tr>\n",
       "    <tr>\n",
       "      <th>1138</th>\n",
       "      <td>6.3</td>\n",
       "      <td>0.510</td>\n",
       "      <td>0.13</td>\n",
       "      <td>2.3</td>\n",
       "      <td>0.076</td>\n",
       "      <td>29.0</td>\n",
       "      <td>40.0</td>\n",
       "      <td>0.99574</td>\n",
       "      <td>3.42</td>\n",
       "      <td>0.75</td>\n",
       "      <td>11.0</td>\n",
       "      <td>6</td>\n",
       "      <td>1592</td>\n",
       "    </tr>\n",
       "    <tr>\n",
       "      <th>1139</th>\n",
       "      <td>6.8</td>\n",
       "      <td>0.620</td>\n",
       "      <td>0.08</td>\n",
       "      <td>1.9</td>\n",
       "      <td>0.068</td>\n",
       "      <td>28.0</td>\n",
       "      <td>38.0</td>\n",
       "      <td>0.99651</td>\n",
       "      <td>3.42</td>\n",
       "      <td>0.82</td>\n",
       "      <td>9.5</td>\n",
       "      <td>6</td>\n",
       "      <td>1593</td>\n",
       "    </tr>\n",
       "    <tr>\n",
       "      <th>1140</th>\n",
       "      <td>6.2</td>\n",
       "      <td>0.600</td>\n",
       "      <td>0.08</td>\n",
       "      <td>2.0</td>\n",
       "      <td>0.090</td>\n",
       "      <td>32.0</td>\n",
       "      <td>44.0</td>\n",
       "      <td>0.99490</td>\n",
       "      <td>3.45</td>\n",
       "      <td>0.58</td>\n",
       "      <td>10.5</td>\n",
       "      <td>5</td>\n",
       "      <td>1594</td>\n",
       "    </tr>\n",
       "    <tr>\n",
       "      <th>1141</th>\n",
       "      <td>5.9</td>\n",
       "      <td>0.550</td>\n",
       "      <td>0.10</td>\n",
       "      <td>2.2</td>\n",
       "      <td>0.062</td>\n",
       "      <td>39.0</td>\n",
       "      <td>51.0</td>\n",
       "      <td>0.99512</td>\n",
       "      <td>3.52</td>\n",
       "      <td>0.76</td>\n",
       "      <td>11.2</td>\n",
       "      <td>6</td>\n",
       "      <td>1595</td>\n",
       "    </tr>\n",
       "    <tr>\n",
       "      <th>1142</th>\n",
       "      <td>5.9</td>\n",
       "      <td>0.645</td>\n",
       "      <td>0.12</td>\n",
       "      <td>2.0</td>\n",
       "      <td>0.075</td>\n",
       "      <td>32.0</td>\n",
       "      <td>44.0</td>\n",
       "      <td>0.99547</td>\n",
       "      <td>3.57</td>\n",
       "      <td>0.71</td>\n",
       "      <td>10.2</td>\n",
       "      <td>5</td>\n",
       "      <td>1597</td>\n",
       "    </tr>\n",
       "  </tbody>\n",
       "</table>\n",
       "<p>1143 rows × 13 columns</p>\n",
       "</div>"
      ],
      "text/plain": [
       "      fixed acidity  volatile acidity  citric acid  residual sugar  chlorides  \\\n",
       "0               7.4             0.700         0.00             1.9      0.076   \n",
       "1               7.8             0.880         0.00             2.6      0.098   \n",
       "2               7.8             0.760         0.04             2.3      0.092   \n",
       "3              11.2             0.280         0.56             1.9      0.075   \n",
       "4               7.4             0.700         0.00             1.9      0.076   \n",
       "...             ...               ...          ...             ...        ...   \n",
       "1138            6.3             0.510         0.13             2.3      0.076   \n",
       "1139            6.8             0.620         0.08             1.9      0.068   \n",
       "1140            6.2             0.600         0.08             2.0      0.090   \n",
       "1141            5.9             0.550         0.10             2.2      0.062   \n",
       "1142            5.9             0.645         0.12             2.0      0.075   \n",
       "\n",
       "      free sulfur dioxide  total sulfur dioxide  density    pH  sulphates  \\\n",
       "0                    11.0                  34.0  0.99780  3.51       0.56   \n",
       "1                    25.0                  67.0  0.99680  3.20       0.68   \n",
       "2                    15.0                  54.0  0.99700  3.26       0.65   \n",
       "3                    17.0                  60.0  0.99800  3.16       0.58   \n",
       "4                    11.0                  34.0  0.99780  3.51       0.56   \n",
       "...                   ...                   ...      ...   ...        ...   \n",
       "1138                 29.0                  40.0  0.99574  3.42       0.75   \n",
       "1139                 28.0                  38.0  0.99651  3.42       0.82   \n",
       "1140                 32.0                  44.0  0.99490  3.45       0.58   \n",
       "1141                 39.0                  51.0  0.99512  3.52       0.76   \n",
       "1142                 32.0                  44.0  0.99547  3.57       0.71   \n",
       "\n",
       "      alcohol  quality    Id  \n",
       "0         9.4        5     0  \n",
       "1         9.8        5     1  \n",
       "2         9.8        5     2  \n",
       "3         9.8        6     3  \n",
       "4         9.4        5     4  \n",
       "...       ...      ...   ...  \n",
       "1138     11.0        6  1592  \n",
       "1139      9.5        6  1593  \n",
       "1140     10.5        5  1594  \n",
       "1141     11.2        6  1595  \n",
       "1142     10.2        5  1597  \n",
       "\n",
       "[1143 rows x 13 columns]"
      ]
     },
     "execution_count": 2,
     "metadata": {},
     "output_type": "execute_result"
    }
   ],
   "source": [
    "X_data_m = pd.read_csv('WineQT.csv')\n",
    "X_data_m"
   ]
  },
  {
   "cell_type": "code",
   "execution_count": 3,
   "metadata": {},
   "outputs": [
    {
     "name": "stdout",
     "output_type": "stream",
     "text": [
      "The shape of the data: (1143, 12)\n"
     ]
    },
    {
     "data": {
      "text/plain": [
       "Index(['fixed acidity', 'volatile acidity', 'citric acid', 'residual sugar',\n",
       "       'chlorides', 'free sulfur dioxide', 'total sulfur dioxide', 'density',\n",
       "       'pH', 'sulphates', 'alcohol', 'quality'],\n",
       "      dtype='object')"
      ]
     },
     "execution_count": 3,
     "metadata": {},
     "output_type": "execute_result"
    }
   ],
   "source": [
    "X_data = X_data_m.drop(\"Id\",axis=1)\n",
    "# X_data = X_data.drop(\"quality\",axis=1)\n",
    "print(\"The shape of the data:\",np.array(X_data).shape)\n",
    "X_data.columns"
   ]
  },
  {
   "cell_type": "markdown",
   "metadata": {},
   "source": [
    "## 1.1"
   ]
  },
  {
   "cell_type": "markdown",
   "metadata": {},
   "source": [
    "### 1.1.1 mean, standard deviation, min, and max values for all attributes.\n"
   ]
  },
  {
   "cell_type": "code",
   "execution_count": 4,
   "metadata": {},
   "outputs": [
    {
     "name": "stdout",
     "output_type": "stream",
     "text": [
      "                           Mean        Std        Max      Min\n",
      "fixed acidity          8.311111   1.746830   15.90000  4.60000\n",
      "volatile acidity       0.531339   0.179555    1.58000  0.12000\n",
      "citric acid            0.268364   0.196600    1.00000  0.00000\n",
      "residual sugar         2.532152   1.355324   15.50000  0.90000\n",
      "chlorides              0.086933   0.047247    0.61100  0.01200\n",
      "free sulfur dioxide   15.615486  10.246001   68.00000  1.00000\n",
      "total sulfur dioxide  45.914698  32.767787  289.00000  6.00000\n",
      "density                0.996730   0.001924    1.00369  0.99007\n",
      "pH                     3.311015   0.156596    4.01000  2.74000\n",
      "sulphates              0.657708   0.170324    2.00000  0.33000\n",
      "alcohol               10.442111   1.081722   14.90000  8.40000\n",
      "quality                5.657043   0.805472    8.00000  3.00000\n"
     ]
    }
   ],
   "source": [
    "X_mean = np.mean(X_data,axis=0)\n",
    "X_std = np.std(X_data,axis=0)\n",
    "X_min = np.min(X_data,axis=0)\n",
    "X_max = np.max(X_data,axis=0)\n",
    "col = ['Mean','Std','Max','Min']\n",
    "inx = X_data.columns\n",
    "data = np.array([X_mean,X_std,X_max,X_min]).T\n",
    "print(pd.DataFrame(data, index=inx, columns=col))"
   ]
  },
  {
   "cell_type": "markdown",
   "metadata": {},
   "source": [
    "### 1.1.2 Graph to show the distribution of the various labels across the entire dataset"
   ]
  },
  {
   "cell_type": "code",
   "execution_count": 5,
   "metadata": {},
   "outputs": [
    {
     "data": {
      "text/plain": [
       "Text(0, 0.5, 'Count')"
      ]
     },
     "execution_count": 5,
     "metadata": {},
     "output_type": "execute_result"
    },
    {
     "data": {
      "image/png": "[encoded data removed]",
      "text/plain": [
       "<Figure size 640x480 with 1 Axes>"
      ]
     },
     "metadata": {},
     "output_type": "display_data"
    }
   ],
   "source": [
    "X_data[\"quality\"].sort_index().plot(kind='hist')\n",
    "# Y_data.value_counts().sort_index().plot(kind='bar')\n",
    "plt.title('Distribution of Quality')\n",
    "plt.xlabel('Quality')\n",
    "plt.ylabel('Count')"
   ]
  },
  {
   "cell_type": "markdown",
   "metadata": {},
   "source": [
    "Observations:      \n",
    "The maximum number of samples are labeled as 5 and 6(quality measure)."
   ]
  },
  {
   "cell_type": "markdown",
   "metadata": {},
   "source": [
    "### Distribution of the various features across the entire dataset"
   ]
  },
  {
   "cell_type": "code",
   "execution_count": 89,
   "metadata": {},
   "outputs": [
    {
     "data": {
      "image/png": "[encoded data removed]",
      "text/plain": [
       "<Figure size 1200x900 with 12 Axes>"
      ]
     },
     "metadata": {},
     "output_type": "display_data"
    }
   ],
   "source": [
    "fig, axes = plt.subplots(3,4, figsize = (12,9))\n",
    "i = 0\n",
    "k=0\n",
    "j=0\n",
    "for attribute in X_data.columns:\n",
    "    k = k+1\n",
    "    axes[i][j].hist(X_data[attribute])\n",
    "    axes[i][j].set_xlabel(attribute)\n",
    "    axes[i][j].set_ylabel(\"counts\")\n",
    "    j = j+1\n",
    "    if k%4 == 0:\n",
    "        i = i+1\n",
    "        j=0\n",
    "\n",
    "plt.tight_layout()\n",
    "plt.show()"
   ]
  },
  {
   "cell_type": "markdown",
   "metadata": {},
   "source": [
    "### Graph of Quality vs dataset features"
   ]
  },
  {
   "cell_type": "code",
   "execution_count": 101,
   "metadata": {},
   "outputs": [
    {
     "data": {
      "image/png": "[encoded data removed]",
      "text/plain": [
       "<Figure size 1200x900 with 12 Axes>"
      ]
     },
     "metadata": {},
     "output_type": "display_data"
    }
   ],
   "source": [
    "fig, axes = plt.subplots(3,4, figsize = (12,9))\n",
    "i = 0\n",
    "k=0\n",
    "j=0\n",
    "attribute = 'quality'\n",
    "for other_attribute in X_data.columns:\n",
    "    k = k+1\n",
    "    axes[i][j].bar(Y_data,X_data[other_attribute])\n",
    "    axes[i][j].set_xlabel(attribute)\n",
    "    axes[i][j].set_ylabel(other_attribute)\n",
    "    j = j+1\n",
    "    if k%4 == 0:\n",
    "        i = i+1\n",
    "        j=0\n",
    "\n",
    "plt.tight_layout()\n",
    "plt.show()"
   ]
  },
  {
   "cell_type": "markdown",
   "metadata": {},
   "source": [
    "Obsevations:          \n",
    "Volatile acidity is inverse with respect to quality.                \n",
    "Most feature have maximum value for the quality value 4 to 6.                         \n",
    "In the most features intially the value is increse and then decrease with respect to quality values."
   ]
  },
  {
   "cell_type": "markdown",
   "metadata": {},
   "source": [
    "### 1.1.3 Partition the dataset into train, validation, and test sets"
   ]
  },
  {
   "cell_type": "code",
   "execution_count": 32,
   "metadata": {},
   "outputs": [
    {
     "name": "stdout",
     "output_type": "stream",
     "text": [
      "Shape of the train, test and validaton data: (799, 12) (172, 12) (172, 12)\n",
      "Shape of the train, test and validaton label: (799,) (172,) (172,)\n"
     ]
    }
   ],
   "source": [
    "Y_data = X_data['quality']\n",
    "X_train_t, X_test, Y_train_t, Y_test = train_test_split(X_data,Y_data,test_size=0.15,random_state=1)\n",
    "X_train, X_valid,Y_train, Y_valid = train_test_split(X_train_t,Y_train_t,test_size=0.177,random_state=1)\n",
    "print(\"Shape of the train, test and validaton data:\",X_train.shape,X_test.shape,X_valid.shape)\n",
    "print(\"Shape of the train, test and validaton label:\",Y_train.shape,Y_test.shape,Y_valid.shape)"
   ]
  },
  {
   "cell_type": "markdown",
   "metadata": {},
   "source": [
    "### 1.1.4 Normalise and standarize the dataset"
   ]
  },
  {
   "cell_type": "code",
   "execution_count": 42,
   "metadata": {},
   "outputs": [
    {
     "name": "stdout",
     "output_type": "stream",
     "text": [
      "Shape of the train, test and validaton data:\n",
      "(799, 11) (172, 11) (172, 11)\n",
      "\n",
      " Train data set after columns wise normalization:\n"
     ]
    },
    {
     "data": {
      "text/html": [
       "<div>\n",
       "<style scoped>\n",
       "    .dataframe tbody tr th:only-of-type {\n",
       "        vertical-align: middle;\n",
       "    }\n",
       "\n",
       "    .dataframe tbody tr th {\n",
       "        vertical-align: top;\n",
       "    }\n",
       "\n",
       "    .dataframe thead th {\n",
       "        text-align: right;\n",
       "    }\n",
       "</style>\n",
       "<table border=\"1\" class=\"dataframe\">\n",
       "  <thead>\n",
       "    <tr style=\"text-align: right;\">\n",
       "      <th></th>\n",
       "      <th>fixed acidity</th>\n",
       "      <th>volatile acidity</th>\n",
       "      <th>citric acid</th>\n",
       "      <th>residual sugar</th>\n",
       "      <th>chlorides</th>\n",
       "      <th>free sulfur dioxide</th>\n",
       "      <th>total sulfur dioxide</th>\n",
       "      <th>density</th>\n",
       "      <th>pH</th>\n",
       "      <th>sulphates</th>\n",
       "      <th>alcohol</th>\n",
       "    </tr>\n",
       "  </thead>\n",
       "  <tbody>\n",
       "    <tr>\n",
       "      <th>0</th>\n",
       "      <td>-0.479978</td>\n",
       "      <td>0.447052</td>\n",
       "      <td>-0.352572</td>\n",
       "      <td>-0.625489</td>\n",
       "      <td>-0.219921</td>\n",
       "      <td>1.934604</td>\n",
       "      <td>0.439019</td>\n",
       "      <td>-0.935328</td>\n",
       "      <td>-1.335305</td>\n",
       "      <td>-1.455911</td>\n",
       "      <td>-1.061597</td>\n",
       "    </tr>\n",
       "    <tr>\n",
       "      <th>1</th>\n",
       "      <td>0.040535</td>\n",
       "      <td>0.778786</td>\n",
       "      <td>-0.403348</td>\n",
       "      <td>-0.240046</td>\n",
       "      <td>0.130153</td>\n",
       "      <td>-0.456567</td>\n",
       "      <td>0.904879</td>\n",
       "      <td>0.331239</td>\n",
       "      <td>-0.699635</td>\n",
       "      <td>-0.394786</td>\n",
       "      <td>-1.154998</td>\n",
       "    </tr>\n",
       "    <tr>\n",
       "      <th>2</th>\n",
       "      <td>-1.289666</td>\n",
       "      <td>0.391763</td>\n",
       "      <td>-0.961883</td>\n",
       "      <td>-0.548400</td>\n",
       "      <td>-0.322884</td>\n",
       "      <td>-0.169626</td>\n",
       "      <td>-0.026840</td>\n",
       "      <td>-1.762260</td>\n",
       "      <td>0.444571</td>\n",
       "      <td>-0.674029</td>\n",
       "      <td>0.526210</td>\n",
       "    </tr>\n",
       "    <tr>\n",
       "      <th>3</th>\n",
       "      <td>0.503214</td>\n",
       "      <td>0.004740</td>\n",
       "      <td>-0.149468</td>\n",
       "      <td>0.068309</td>\n",
       "      <td>-0.178735</td>\n",
       "      <td>1.169429</td>\n",
       "      <td>2.892545</td>\n",
       "      <td>0.603394</td>\n",
       "      <td>-0.636068</td>\n",
       "      <td>-0.506483</td>\n",
       "      <td>-0.874796</td>\n",
       "    </tr>\n",
       "    <tr>\n",
       "      <th>4</th>\n",
       "      <td>-0.595648</td>\n",
       "      <td>0.336474</td>\n",
       "      <td>-0.047916</td>\n",
       "      <td>3.614386</td>\n",
       "      <td>-0.343476</td>\n",
       "      <td>1.838957</td>\n",
       "      <td>2.333513</td>\n",
       "      <td>0.718537</td>\n",
       "      <td>0.381004</td>\n",
       "      <td>-0.953273</td>\n",
       "      <td>-0.968197</td>\n",
       "    </tr>\n",
       "    <tr>\n",
       "      <th>...</th>\n",
       "      <td>...</td>\n",
       "      <td>...</td>\n",
       "      <td>...</td>\n",
       "      <td>...</td>\n",
       "      <td>...</td>\n",
       "      <td>...</td>\n",
       "      <td>...</td>\n",
       "      <td>...</td>\n",
       "      <td>...</td>\n",
       "      <td>...</td>\n",
       "      <td>...</td>\n",
       "    </tr>\n",
       "    <tr>\n",
       "      <th>794</th>\n",
       "      <td>-0.653483</td>\n",
       "      <td>-0.271705</td>\n",
       "      <td>-1.012659</td>\n",
       "      <td>2.303879</td>\n",
       "      <td>0.047783</td>\n",
       "      <td>-0.552214</td>\n",
       "      <td>-0.865386</td>\n",
       "      <td>0.059084</td>\n",
       "      <td>0.381004</td>\n",
       "      <td>0.107853</td>\n",
       "      <td>0.713011</td>\n",
       "    </tr>\n",
       "    <tr>\n",
       "      <th>795</th>\n",
       "      <td>-0.653483</td>\n",
       "      <td>0.557630</td>\n",
       "      <td>-1.215763</td>\n",
       "      <td>-0.240046</td>\n",
       "      <td>-0.137550</td>\n",
       "      <td>0.117314</td>\n",
       "      <td>1.308623</td>\n",
       "      <td>0.378343</td>\n",
       "      <td>1.398076</td>\n",
       "      <td>-0.450634</td>\n",
       "      <td>-0.594595</td>\n",
       "    </tr>\n",
       "    <tr>\n",
       "      <th>796</th>\n",
       "      <td>1.370736</td>\n",
       "      <td>-0.548150</td>\n",
       "      <td>0.612171</td>\n",
       "      <td>-0.240046</td>\n",
       "      <td>0.397857</td>\n",
       "      <td>-0.743507</td>\n",
       "      <td>-0.430585</td>\n",
       "      <td>0.980224</td>\n",
       "      <td>-2.670211</td>\n",
       "      <td>-0.897424</td>\n",
       "      <td>-0.781396</td>\n",
       "    </tr>\n",
       "    <tr>\n",
       "      <th>797</th>\n",
       "      <td>-1.000492</td>\n",
       "      <td>1.082876</td>\n",
       "      <td>-0.911107</td>\n",
       "      <td>2.303879</td>\n",
       "      <td>0.624376</td>\n",
       "      <td>-0.647861</td>\n",
       "      <td>-0.896444</td>\n",
       "      <td>-0.092694</td>\n",
       "      <td>0.253870</td>\n",
       "      <td>-0.953273</td>\n",
       "      <td>0.339410</td>\n",
       "    </tr>\n",
       "    <tr>\n",
       "      <th>798</th>\n",
       "      <td>-0.653483</td>\n",
       "      <td>-0.824595</td>\n",
       "      <td>0.155188</td>\n",
       "      <td>-0.548400</td>\n",
       "      <td>-0.281698</td>\n",
       "      <td>1.456369</td>\n",
       "      <td>0.749592</td>\n",
       "      <td>0.064318</td>\n",
       "      <td>0.698839</td>\n",
       "      <td>-0.394786</td>\n",
       "      <td>-0.874796</td>\n",
       "    </tr>\n",
       "  </tbody>\n",
       "</table>\n",
       "<p>799 rows × 11 columns</p>\n",
       "</div>"
      ],
      "text/plain": [
       "     fixed acidity  volatile acidity  citric acid  residual sugar  chlorides  \\\n",
       "0        -0.479978          0.447052    -0.352572       -0.625489  -0.219921   \n",
       "1         0.040535          0.778786    -0.403348       -0.240046   0.130153   \n",
       "2        -1.289666          0.391763    -0.961883       -0.548400  -0.322884   \n",
       "3         0.503214          0.004740    -0.149468        0.068309  -0.178735   \n",
       "4        -0.595648          0.336474    -0.047916        3.614386  -0.343476   \n",
       "..             ...               ...          ...             ...        ...   \n",
       "794      -0.653483         -0.271705    -1.012659        2.303879   0.047783   \n",
       "795      -0.653483          0.557630    -1.215763       -0.240046  -0.137550   \n",
       "796       1.370736         -0.548150     0.612171       -0.240046   0.397857   \n",
       "797      -1.000492          1.082876    -0.911107        2.303879   0.624376   \n",
       "798      -0.653483         -0.824595     0.155188       -0.548400  -0.281698   \n",
       "\n",
       "     free sulfur dioxide  total sulfur dioxide   density        pH  sulphates  \\\n",
       "0               1.934604              0.439019 -0.935328 -1.335305  -1.455911   \n",
       "1              -0.456567              0.904879  0.331239 -0.699635  -0.394786   \n",
       "2              -0.169626             -0.026840 -1.762260  0.444571  -0.674029   \n",
       "3               1.169429              2.892545  0.603394 -0.636068  -0.506483   \n",
       "4               1.838957              2.333513  0.718537  0.381004  -0.953273   \n",
       "..                   ...                   ...       ...       ...        ...   \n",
       "794            -0.552214             -0.865386  0.059084  0.381004   0.107853   \n",
       "795             0.117314              1.308623  0.378343  1.398076  -0.450634   \n",
       "796            -0.743507             -0.430585  0.980224 -2.670211  -0.897424   \n",
       "797            -0.647861             -0.896444 -0.092694  0.253870  -0.953273   \n",
       "798             1.456369              0.749592  0.064318  0.698839  -0.394786   \n",
       "\n",
       "      alcohol  \n",
       "0   -1.061597  \n",
       "1   -1.154998  \n",
       "2    0.526210  \n",
       "3   -0.874796  \n",
       "4   -0.968197  \n",
       "..        ...  \n",
       "794  0.713011  \n",
       "795 -0.594595  \n",
       "796 -0.781396  \n",
       "797  0.339410  \n",
       "798 -0.874796  \n",
       "\n",
       "[799 rows x 11 columns]"
      ]
     },
     "execution_count": 42,
     "metadata": {},
     "output_type": "execute_result"
    }
   ],
   "source": [
    "X_train_norm = preprocessing.normalize(X_train,axis=0)\n",
    "X_test_norm = preprocessing.normalize(X_test,axis=0)\n",
    "X_valid_norm = preprocessing.normalize(X_valid,axis=0)\n",
    "std = preprocessing.StandardScaler()\n",
    "X_train_norm = std.fit_transform(X=X_train_norm)\n",
    "X_test_norm = std.fit_transform(X=X_test_norm)\n",
    "X_valid_norm = std.fit_transform(X=X_valid_norm)\n",
    "\n",
    "X_train_norm_df = pd.DataFrame(X_train_norm,columns= X_data.columns)\n",
    "X_test_norm_df = pd.DataFrame(X_test_norm,columns= X_data.columns)\n",
    "X_valid_norm_df = pd.DataFrame(X_valid_norm,columns= X_data.columns)\n",
    "\n",
    "Y_train_norm_df = X_train_norm_df[\"quality\"]\n",
    "Y_test_norm_df = X_test_norm_df[\"quality\"]\n",
    "Y_valid_norm_df = X_valid_norm_df[\"quality\"]\n",
    "\n",
    "X_train_norm_df = X_train_norm_df.drop('quality',axis=1)\n",
    "X_test_norm_df = X_test_norm_df.drop('quality',axis=1)\n",
    "X_valid_norm_df = X_valid_norm_df.drop('quality',axis=1)\n",
    "\n",
    "print(\"Shape of the train, test and validaton data:\")\n",
    "print(X_train_norm_df.shape,X_test_norm_df.shape,X_valid_norm_df.shape)\n",
    "print(\"\\n Train data set after columns wise normalization:\")\n",
    "X_train_norm_df"
   ]
  },
  {
   "cell_type": "code",
   "execution_count": 43,
   "metadata": {},
   "outputs": [
    {
     "name": "stdout",
     "output_type": "stream",
     "text": [
      "\n",
      " Test data set after columns wise normalization:\n"
     ]
    },
    {
     "data": {
      "text/html": [
       "<div>\n",
       "<style scoped>\n",
       "    .dataframe tbody tr th:only-of-type {\n",
       "        vertical-align: middle;\n",
       "    }\n",
       "\n",
       "    .dataframe tbody tr th {\n",
       "        vertical-align: top;\n",
       "    }\n",
       "\n",
       "    .dataframe thead th {\n",
       "        text-align: right;\n",
       "    }\n",
       "</style>\n",
       "<table border=\"1\" class=\"dataframe\">\n",
       "  <thead>\n",
       "    <tr style=\"text-align: right;\">\n",
       "      <th></th>\n",
       "      <th>fixed acidity</th>\n",
       "      <th>volatile acidity</th>\n",
       "      <th>citric acid</th>\n",
       "      <th>residual sugar</th>\n",
       "      <th>chlorides</th>\n",
       "      <th>free sulfur dioxide</th>\n",
       "      <th>total sulfur dioxide</th>\n",
       "      <th>density</th>\n",
       "      <th>pH</th>\n",
       "      <th>sulphates</th>\n",
       "      <th>alcohol</th>\n",
       "    </tr>\n",
       "  </thead>\n",
       "  <tbody>\n",
       "    <tr>\n",
       "      <th>0</th>\n",
       "      <td>0.594938</td>\n",
       "      <td>-0.429962</td>\n",
       "      <td>0.188150</td>\n",
       "      <td>-0.286942</td>\n",
       "      <td>0.991559</td>\n",
       "      <td>-0.952506</td>\n",
       "      <td>-0.826115</td>\n",
       "      <td>0.051458</td>\n",
       "      <td>-0.585218</td>\n",
       "      <td>0.487928</td>\n",
       "      <td>0.748354</td>\n",
       "    </tr>\n",
       "    <tr>\n",
       "      <th>1</th>\n",
       "      <td>-0.655060</td>\n",
       "      <td>-1.332225</td>\n",
       "      <td>0.136782</td>\n",
       "      <td>-0.403618</td>\n",
       "      <td>-0.090447</td>\n",
       "      <td>1.855704</td>\n",
       "      <td>0.614753</td>\n",
       "      <td>0.126373</td>\n",
       "      <td>0.868092</td>\n",
       "      <td>-1.158979</td>\n",
       "      <td>-0.890385</td>\n",
       "    </tr>\n",
       "    <tr>\n",
       "      <th>2</th>\n",
       "      <td>-0.314151</td>\n",
       "      <td>-1.847804</td>\n",
       "      <td>0.034046</td>\n",
       "      <td>-0.403618</td>\n",
       "      <td>-0.811784</td>\n",
       "      <td>0.507764</td>\n",
       "      <td>0.864134</td>\n",
       "      <td>-0.858229</td>\n",
       "      <td>-1.027529</td>\n",
       "      <td>0.968276</td>\n",
       "      <td>0.475231</td>\n",
       "    </tr>\n",
       "    <tr>\n",
       "      <th>3</th>\n",
       "      <td>-1.109605</td>\n",
       "      <td>0.021170</td>\n",
       "      <td>-0.531001</td>\n",
       "      <td>-0.636970</td>\n",
       "      <td>-0.210670</td>\n",
       "      <td>1.294062</td>\n",
       "      <td>-0.299644</td>\n",
       "      <td>-1.907045</td>\n",
       "      <td>0.046656</td>\n",
       "      <td>1.174139</td>\n",
       "      <td>1.112518</td>\n",
       "    </tr>\n",
       "    <tr>\n",
       "      <th>4</th>\n",
       "      <td>-0.711878</td>\n",
       "      <td>0.021170</td>\n",
       "      <td>-0.633737</td>\n",
       "      <td>-0.170266</td>\n",
       "      <td>-0.258759</td>\n",
       "      <td>0.058450</td>\n",
       "      <td>-0.299644</td>\n",
       "      <td>-0.430141</td>\n",
       "      <td>0.299405</td>\n",
       "      <td>-0.404146</td>\n",
       "      <td>-0.617262</td>\n",
       "    </tr>\n",
       "    <tr>\n",
       "      <th>...</th>\n",
       "      <td>...</td>\n",
       "      <td>...</td>\n",
       "      <td>...</td>\n",
       "      <td>...</td>\n",
       "      <td>...</td>\n",
       "      <td>...</td>\n",
       "      <td>...</td>\n",
       "      <td>...</td>\n",
       "      <td>...</td>\n",
       "      <td>...</td>\n",
       "      <td>...</td>\n",
       "    </tr>\n",
       "    <tr>\n",
       "      <th>167</th>\n",
       "      <td>0.424484</td>\n",
       "      <td>-1.203330</td>\n",
       "      <td>1.369613</td>\n",
       "      <td>-0.286942</td>\n",
       "      <td>0.606846</td>\n",
       "      <td>-1.064834</td>\n",
       "      <td>-0.992369</td>\n",
       "      <td>-0.547866</td>\n",
       "      <td>-0.016532</td>\n",
       "      <td>-0.198283</td>\n",
       "      <td>0.839395</td>\n",
       "    </tr>\n",
       "    <tr>\n",
       "      <th>168</th>\n",
       "      <td>-0.143697</td>\n",
       "      <td>1.084552</td>\n",
       "      <td>-0.171426</td>\n",
       "      <td>-0.053590</td>\n",
       "      <td>-0.258759</td>\n",
       "      <td>-0.166207</td>\n",
       "      <td>0.974970</td>\n",
       "      <td>0.094266</td>\n",
       "      <td>-0.458843</td>\n",
       "      <td>-0.747252</td>\n",
       "      <td>-0.799344</td>\n",
       "    </tr>\n",
       "    <tr>\n",
       "      <th>169</th>\n",
       "      <td>-0.598242</td>\n",
       "      <td>-1.203330</td>\n",
       "      <td>1.061405</td>\n",
       "      <td>-0.286942</td>\n",
       "      <td>-0.282803</td>\n",
       "      <td>1.069405</td>\n",
       "      <td>-0.050263</td>\n",
       "      <td>-0.729803</td>\n",
       "      <td>0.552155</td>\n",
       "      <td>1.380003</td>\n",
       "      <td>0.566272</td>\n",
       "    </tr>\n",
       "    <tr>\n",
       "      <th>170</th>\n",
       "      <td>-0.257333</td>\n",
       "      <td>0.214512</td>\n",
       "      <td>-1.198785</td>\n",
       "      <td>-0.403618</td>\n",
       "      <td>-0.306848</td>\n",
       "      <td>-0.615520</td>\n",
       "      <td>-0.770697</td>\n",
       "      <td>0.051458</td>\n",
       "      <td>0.299405</td>\n",
       "      <td>-0.541389</td>\n",
       "      <td>-0.799344</td>\n",
       "    </tr>\n",
       "    <tr>\n",
       "      <th>171</th>\n",
       "      <td>2.697209</td>\n",
       "      <td>-0.494409</td>\n",
       "      <td>1.215509</td>\n",
       "      <td>2.279930</td>\n",
       "      <td>-0.018313</td>\n",
       "      <td>-0.952506</td>\n",
       "      <td>0.032864</td>\n",
       "      <td>2.887541</td>\n",
       "      <td>-0.079719</td>\n",
       "      <td>0.213444</td>\n",
       "      <td>2.113970</td>\n",
       "    </tr>\n",
       "  </tbody>\n",
       "</table>\n",
       "<p>172 rows × 11 columns</p>\n",
       "</div>"
      ],
      "text/plain": [
       "     fixed acidity  volatile acidity  citric acid  residual sugar  chlorides  \\\n",
       "0         0.594938         -0.429962     0.188150       -0.286942   0.991559   \n",
       "1        -0.655060         -1.332225     0.136782       -0.403618  -0.090447   \n",
       "2        -0.314151         -1.847804     0.034046       -0.403618  -0.811784   \n",
       "3        -1.109605          0.021170    -0.531001       -0.636970  -0.210670   \n",
       "4        -0.711878          0.021170    -0.633737       -0.170266  -0.258759   \n",
       "..             ...               ...          ...             ...        ...   \n",
       "167       0.424484         -1.203330     1.369613       -0.286942   0.606846   \n",
       "168      -0.143697          1.084552    -0.171426       -0.053590  -0.258759   \n",
       "169      -0.598242         -1.203330     1.061405       -0.286942  -0.282803   \n",
       "170      -0.257333          0.214512    -1.198785       -0.403618  -0.306848   \n",
       "171       2.697209         -0.494409     1.215509        2.279930  -0.018313   \n",
       "\n",
       "     free sulfur dioxide  total sulfur dioxide   density        pH  sulphates  \\\n",
       "0              -0.952506             -0.826115  0.051458 -0.585218   0.487928   \n",
       "1               1.855704              0.614753  0.126373  0.868092  -1.158979   \n",
       "2               0.507764              0.864134 -0.858229 -1.027529   0.968276   \n",
       "3               1.294062             -0.299644 -1.907045  0.046656   1.174139   \n",
       "4               0.058450             -0.299644 -0.430141  0.299405  -0.404146   \n",
       "..                   ...                   ...       ...       ...        ...   \n",
       "167            -1.064834             -0.992369 -0.547866 -0.016532  -0.198283   \n",
       "168            -0.166207              0.974970  0.094266 -0.458843  -0.747252   \n",
       "169             1.069405             -0.050263 -0.729803  0.552155   1.380003   \n",
       "170            -0.615520             -0.770697  0.051458  0.299405  -0.541389   \n",
       "171            -0.952506              0.032864  2.887541 -0.079719   0.213444   \n",
       "\n",
       "      alcohol  \n",
       "0    0.748354  \n",
       "1   -0.890385  \n",
       "2    0.475231  \n",
       "3    1.112518  \n",
       "4   -0.617262  \n",
       "..        ...  \n",
       "167  0.839395  \n",
       "168 -0.799344  \n",
       "169  0.566272  \n",
       "170 -0.799344  \n",
       "171  2.113970  \n",
       "\n",
       "[172 rows x 11 columns]"
      ]
     },
     "execution_count": 43,
     "metadata": {},
     "output_type": "execute_result"
    }
   ],
   "source": [
    "print(\"\\n Test data set after columns wise normalization:\")\n",
    "X_test_norm_df"
   ]
  },
  {
   "cell_type": "code",
   "execution_count": 44,
   "metadata": {},
   "outputs": [
    {
     "name": "stdout",
     "output_type": "stream",
     "text": [
      "\n",
      " Validation data set after columns wise normalization:\n"
     ]
    },
    {
     "data": {
      "text/html": [
       "<div>\n",
       "<style scoped>\n",
       "    .dataframe tbody tr th:only-of-type {\n",
       "        vertical-align: middle;\n",
       "    }\n",
       "\n",
       "    .dataframe tbody tr th {\n",
       "        vertical-align: top;\n",
       "    }\n",
       "\n",
       "    .dataframe thead th {\n",
       "        text-align: right;\n",
       "    }\n",
       "</style>\n",
       "<table border=\"1\" class=\"dataframe\">\n",
       "  <thead>\n",
       "    <tr style=\"text-align: right;\">\n",
       "      <th></th>\n",
       "      <th>fixed acidity</th>\n",
       "      <th>volatile acidity</th>\n",
       "      <th>citric acid</th>\n",
       "      <th>residual sugar</th>\n",
       "      <th>chlorides</th>\n",
       "      <th>free sulfur dioxide</th>\n",
       "      <th>total sulfur dioxide</th>\n",
       "      <th>density</th>\n",
       "      <th>pH</th>\n",
       "      <th>sulphates</th>\n",
       "      <th>alcohol</th>\n",
       "    </tr>\n",
       "  </thead>\n",
       "  <tbody>\n",
       "    <tr>\n",
       "      <th>0</th>\n",
       "      <td>0.892555</td>\n",
       "      <td>1.098129</td>\n",
       "      <td>-0.450701</td>\n",
       "      <td>1.586883</td>\n",
       "      <td>0.469253</td>\n",
       "      <td>1.626419</td>\n",
       "      <td>0.933036</td>\n",
       "      <td>0.985314</td>\n",
       "      <td>-1.147865</td>\n",
       "      <td>-0.684959</td>\n",
       "      <td>-1.019634</td>\n",
       "    </tr>\n",
       "    <tr>\n",
       "      <th>1</th>\n",
       "      <td>-0.707180</td>\n",
       "      <td>0.071059</td>\n",
       "      <td>-1.419708</td>\n",
       "      <td>-0.379993</td>\n",
       "      <td>-0.222066</td>\n",
       "      <td>2.201039</td>\n",
       "      <td>0.274422</td>\n",
       "      <td>-0.575347</td>\n",
       "      <td>0.502911</td>\n",
       "      <td>1.249682</td>\n",
       "      <td>0.782185</td>\n",
       "    </tr>\n",
       "    <tr>\n",
       "      <th>2</th>\n",
       "      <td>0.727065</td>\n",
       "      <td>-0.545183</td>\n",
       "      <td>0.365305</td>\n",
       "      <td>-0.379993</td>\n",
       "      <td>-0.135651</td>\n",
       "      <td>0.094100</td>\n",
       "      <td>-0.258741</td>\n",
       "      <td>-0.271067</td>\n",
       "      <td>-0.553586</td>\n",
       "      <td>0.048870</td>\n",
       "      <td>0.511912</td>\n",
       "    </tr>\n",
       "    <tr>\n",
       "      <th>3</th>\n",
       "      <td>0.175432</td>\n",
       "      <td>0.533240</td>\n",
       "      <td>-0.552702</td>\n",
       "      <td>0.045278</td>\n",
       "      <td>0.210008</td>\n",
       "      <td>0.477180</td>\n",
       "      <td>2.281625</td>\n",
       "      <td>0.602511</td>\n",
       "      <td>-1.478020</td>\n",
       "      <td>-0.885094</td>\n",
       "      <td>-1.109724</td>\n",
       "    </tr>\n",
       "    <tr>\n",
       "      <th>4</th>\n",
       "      <td>0.451248</td>\n",
       "      <td>-1.572253</td>\n",
       "      <td>-0.195699</td>\n",
       "      <td>-0.379993</td>\n",
       "      <td>-0.243670</td>\n",
       "      <td>-1.438220</td>\n",
       "      <td>-0.572366</td>\n",
       "      <td>1.093285</td>\n",
       "      <td>0.634973</td>\n",
       "      <td>1.449817</td>\n",
       "      <td>-0.208815</td>\n",
       "    </tr>\n",
       "    <tr>\n",
       "      <th>...</th>\n",
       "      <td>...</td>\n",
       "      <td>...</td>\n",
       "      <td>...</td>\n",
       "      <td>...</td>\n",
       "      <td>...</td>\n",
       "      <td>...</td>\n",
       "      <td>...</td>\n",
       "      <td>...</td>\n",
       "      <td>...</td>\n",
       "      <td>...</td>\n",
       "      <td>...</td>\n",
       "    </tr>\n",
       "    <tr>\n",
       "      <th>167</th>\n",
       "      <td>-0.431364</td>\n",
       "      <td>0.584594</td>\n",
       "      <td>-1.419708</td>\n",
       "      <td>-0.220516</td>\n",
       "      <td>-0.265274</td>\n",
       "      <td>0.189870</td>\n",
       "      <td>-0.541004</td>\n",
       "      <td>-0.133650</td>\n",
       "      <td>0.040694</td>\n",
       "      <td>-0.351400</td>\n",
       "      <td>-0.479088</td>\n",
       "    </tr>\n",
       "    <tr>\n",
       "      <th>168</th>\n",
       "      <td>-0.045221</td>\n",
       "      <td>-1.366839</td>\n",
       "      <td>0.314305</td>\n",
       "      <td>-0.167358</td>\n",
       "      <td>-0.351689</td>\n",
       "      <td>-0.001670</td>\n",
       "      <td>0.023522</td>\n",
       "      <td>-0.408484</td>\n",
       "      <td>0.568942</td>\n",
       "      <td>0.849411</td>\n",
       "      <td>0.692094</td>\n",
       "    </tr>\n",
       "    <tr>\n",
       "      <th>169</th>\n",
       "      <td>0.175432</td>\n",
       "      <td>-1.084395</td>\n",
       "      <td>0.620307</td>\n",
       "      <td>-0.326834</td>\n",
       "      <td>-0.222066</td>\n",
       "      <td>-1.246680</td>\n",
       "      <td>-1.262342</td>\n",
       "      <td>-0.810918</td>\n",
       "      <td>-0.289462</td>\n",
       "      <td>0.115582</td>\n",
       "      <td>1.232639</td>\n",
       "    </tr>\n",
       "    <tr>\n",
       "      <th>170</th>\n",
       "      <td>-0.927833</td>\n",
       "      <td>0.276473</td>\n",
       "      <td>-1.317707</td>\n",
       "      <td>-0.220516</td>\n",
       "      <td>-0.438103</td>\n",
       "      <td>0.285640</td>\n",
       "      <td>-0.196016</td>\n",
       "      <td>-1.424386</td>\n",
       "      <td>0.436880</td>\n",
       "      <td>0.048870</td>\n",
       "      <td>1.863275</td>\n",
       "    </tr>\n",
       "    <tr>\n",
       "      <th>171</th>\n",
       "      <td>-0.596854</td>\n",
       "      <td>-1.007364</td>\n",
       "      <td>0.263304</td>\n",
       "      <td>-0.592628</td>\n",
       "      <td>-0.610933</td>\n",
       "      <td>-1.246680</td>\n",
       "      <td>-1.042804</td>\n",
       "      <td>-0.379037</td>\n",
       "      <td>-0.553586</td>\n",
       "      <td>2.984188</td>\n",
       "      <td>-0.479088</td>\n",
       "    </tr>\n",
       "  </tbody>\n",
       "</table>\n",
       "<p>172 rows × 11 columns</p>\n",
       "</div>"
      ],
      "text/plain": [
       "     fixed acidity  volatile acidity  citric acid  residual sugar  chlorides  \\\n",
       "0         0.892555          1.098129    -0.450701        1.586883   0.469253   \n",
       "1        -0.707180          0.071059    -1.419708       -0.379993  -0.222066   \n",
       "2         0.727065         -0.545183     0.365305       -0.379993  -0.135651   \n",
       "3         0.175432          0.533240    -0.552702        0.045278   0.210008   \n",
       "4         0.451248         -1.572253    -0.195699       -0.379993  -0.243670   \n",
       "..             ...               ...          ...             ...        ...   \n",
       "167      -0.431364          0.584594    -1.419708       -0.220516  -0.265274   \n",
       "168      -0.045221         -1.366839     0.314305       -0.167358  -0.351689   \n",
       "169       0.175432         -1.084395     0.620307       -0.326834  -0.222066   \n",
       "170      -0.927833          0.276473    -1.317707       -0.220516  -0.438103   \n",
       "171      -0.596854         -1.007364     0.263304       -0.592628  -0.610933   \n",
       "\n",
       "     free sulfur dioxide  total sulfur dioxide   density        pH  sulphates  \\\n",
       "0               1.626419              0.933036  0.985314 -1.147865  -0.684959   \n",
       "1               2.201039              0.274422 -0.575347  0.502911   1.249682   \n",
       "2               0.094100             -0.258741 -0.271067 -0.553586   0.048870   \n",
       "3               0.477180              2.281625  0.602511 -1.478020  -0.885094   \n",
       "4              -1.438220             -0.572366  1.093285  0.634973   1.449817   \n",
       "..                   ...                   ...       ...       ...        ...   \n",
       "167             0.189870             -0.541004 -0.133650  0.040694  -0.351400   \n",
       "168            -0.001670              0.023522 -0.408484  0.568942   0.849411   \n",
       "169            -1.246680             -1.262342 -0.810918 -0.289462   0.115582   \n",
       "170             0.285640             -0.196016 -1.424386  0.436880   0.048870   \n",
       "171            -1.246680             -1.042804 -0.379037 -0.553586   2.984188   \n",
       "\n",
       "      alcohol  \n",
       "0   -1.019634  \n",
       "1    0.782185  \n",
       "2    0.511912  \n",
       "3   -1.109724  \n",
       "4   -0.208815  \n",
       "..        ...  \n",
       "167 -0.479088  \n",
       "168  0.692094  \n",
       "169  1.232639  \n",
       "170  1.863275  \n",
       "171 -0.479088  \n",
       "\n",
       "[172 rows x 11 columns]"
      ]
     },
     "execution_count": 44,
     "metadata": {},
     "output_type": "execute_result"
    }
   ],
   "source": [
    "print(\"\\n Validation data set after columns wise normalization:\")\n",
    "X_valid_norm_df"
   ]
  },
  {
   "cell_type": "code",
   "execution_count": 45,
   "metadata": {},
   "outputs": [
    {
     "data": {
      "text/plain": [
       "quality\n",
       "5    483\n",
       "6    462\n",
       "7    143\n",
       "4     33\n",
       "8     16\n",
       "3      6\n",
       "Name: count, dtype: int64"
      ]
     },
     "execution_count": 45,
     "metadata": {},
     "output_type": "execute_result"
    }
   ],
   "source": [
    "X_data[\"quality\"].value_counts()"
   ]
  },
  {
   "cell_type": "markdown",
   "metadata": {},
   "source": [
    "# 1.2 Model Building"
   ]
  },
  {
   "cell_type": "markdown",
   "metadata": {},
   "source": [
    "### 1.2.1 Multinomial Logistic Regression model from scratch.\n",
    "### The cross entropy loss is used as loss function and Gradient descent used as the optimization algorithm"
   ]
  },
  {
   "cell_type": "code",
   "execution_count": 46,
   "metadata": {},
   "outputs": [],
   "source": [
    "class multinomial_logistic_regration:\n",
    "    def __init__(self, learning_rate = 0.01, epoch = 100,thresold_value = 0.000001):\n",
    "        self.learning_rate = learning_rate\n",
    "        self.epoch = epoch\n",
    "        self.loss = []\n",
    "        self.thresold_value = thresold_value\n",
    "    def fit(self, X_train, Y_train):\n",
    "        self.classes, classes_indices = np.unique(Y_train, return_inverse=True)\n",
    "        X_train = np.insert(X_train,0,1,axis=1)\n",
    "        self.weights = np.full((len(self.classes), X_train.shape[1]),0.001)  #kxm\n",
    "        #one-hot\n",
    "        Y_one_hot = np.eye(len(self.classes))[classes_indices]\n",
    "        #fit\n",
    "        i = 0\n",
    "        while(i<self.epoch):\n",
    "            p_k = self.predic_prob_(X_train)   #find softmax\n",
    "            self.loss.append(self.cross_entropy(Y_one_hot,p_k))\n",
    "            error = Y_one_hot - p_k\n",
    "            dj_dw = np.dot(error.T, X_train)\n",
    "            update_w = dj_dw*self.learning_rate\n",
    "            self.weights += update_w\n",
    "\n",
    "            if np.abs(update_w).max()<self.thresold_value:\n",
    "                break\n",
    "\n",
    "            i+=1\n",
    "\n",
    "    def predic_prob_(self,X):\n",
    "        z = np.dot(X,self.weights.T).reshape(-1,len(self.classes))\n",
    "        softmax = np.exp(z) / np.sum(np.exp(z), axis=1).reshape(-1,1)\n",
    "        return softmax               #nxk\n",
    "        \n",
    "    def predict_classes(self, X_test,internal = 0):\n",
    "        if internal==0:\n",
    "            X_test = np.insert(X_test,0,1,axis=1)\n",
    "        p_prob = self.predic_prob_(X_test)\n",
    "        return np.vectorize(lambda c: self.classes[c])(np.argmax(p_prob, axis=1))\n",
    "    \n",
    "    def cross_entropy(self, Y, p_probs):\n",
    "        return -1 * np.mean(Y * np.log(p_probs))\n",
    "\n",
    "    def Accuracy(self, X_test, y):\n",
    "        X_test = np.insert(X_test,0,1,axis=1)\n",
    "        return np.mean(self.predict_classes(X_test,internal=1) == y)"
   ]
  },
  {
   "cell_type": "markdown",
   "metadata": {},
   "source": [
    "### fitting the train data"
   ]
  },
  {
   "cell_type": "code",
   "execution_count": 47,
   "metadata": {},
   "outputs": [],
   "source": [
    "model = multinomial_logistic_regration(learning_rate=0.0001, epoch=3000)\n",
    "model.fit(X_train=X_train_norm_df,Y_train=Y_train)"
   ]
  },
  {
   "cell_type": "markdown",
   "metadata": {},
   "source": [
    "### 1.2.2"
   ]
  },
  {
   "cell_type": "markdown",
   "metadata": {},
   "source": [
    "### Classification report of the model on validation dataset"
   ]
  },
  {
   "cell_type": "code",
   "execution_count": 48,
   "metadata": {},
   "outputs": [
    {
     "name": "stdout",
     "output_type": "stream",
     "text": [
      "              precision    recall  f1-score   support\n",
      "\n",
      "           3       1.00      0.00      0.00         2\n",
      "           4       0.00      0.00      1.00         6\n",
      "           5       0.67      0.76      0.71        72\n",
      "           6       0.51      0.64      0.57        61\n",
      "           7       0.92      0.43      0.59        28\n",
      "           8       1.00      0.00      0.00         3\n",
      "\n",
      "    accuracy                           0.62       172\n",
      "   macro avg       0.68      0.31      0.48       172\n",
      "weighted avg       0.64      0.62      0.63       172\n",
      "\n"
     ]
    }
   ],
   "source": [
    "target_names = ['3','4', '5', '6', '7', '8']\n",
    "# target_names = model.classes\n",
    "Y_pred = model.predict_classes(X_valid_norm_df)\n",
    "print(classification_report(Y_valid, Y_pred, target_names=target_names,zero_division=True))"
   ]
  },
  {
   "cell_type": "markdown",
   "metadata": {},
   "source": [
    "### Accuracy on the train dataset"
   ]
  },
  {
   "cell_type": "code",
   "execution_count": 49,
   "metadata": {},
   "outputs": [
    {
     "name": "stdout",
     "output_type": "stream",
     "text": [
      "Accuracy: 0.6157697121401752\n"
     ]
    }
   ],
   "source": [
    "print('Accuracy:',model.Accuracy(X_train_norm_df,Y_train))"
   ]
  },
  {
   "cell_type": "markdown",
   "metadata": {},
   "source": [
    "Training and validation accuracy are same which shows that model is not overfitted on the train data."
   ]
  },
  {
   "cell_type": "markdown",
   "metadata": {},
   "source": [
    "### Loss calulation during training based on cross entropy function"
   ]
  },
  {
   "cell_type": "code",
   "execution_count": 50,
   "metadata": {},
   "outputs": [
    {
     "data": {
      "image/png": "[encoded data removed]",
      "text/plain": [
       "<Figure size 800x600 with 1 Axes>"
      ]
     },
     "metadata": {},
     "output_type": "display_data"
    }
   ],
   "source": [
    "fig = plt.figure(figsize=(8,6))\n",
    "plt.plot(np.arange(len(model.loss)),model.loss)\n",
    "plt.xlabel(\"Epoch\")\n",
    "plt.ylabel(\"Loss\")\n",
    "plt.title(\"Development of loss during training\")\n",
    "plt.show()"
   ]
  },
  {
   "cell_type": "markdown",
   "metadata": {},
   "source": [
    "## 1.3"
   ]
  },
  {
   "cell_type": "markdown",
   "metadata": {},
   "source": [
    "### 1.3.1 fine-tune the hyperparameters using W&B logging for the validation dataset"
   ]
  },
  {
   "cell_type": "code",
   "execution_count": null,
   "metadata": {},
   "outputs": [],
   "source": [
    "import wandb\n",
    "import random\n",
    "\n",
    "# start a new wandb run to track this script\n",
    "wandb.init(project=\"Q-1 Multinomial logistic regression Classification\")\n",
    "# simulate training\n",
    "\n",
    "from itertools import product\n",
    "h_param = {\n",
    "        'learning_rate': [0.1,0.08,0.06,0.04,0.02,0.01,0.008,0.006,0.004,0.002,0.001,0.0005,0.0001],\n",
    "        'epochs' : [1600,1800,2000,2200,2400,2600,2800,3000,3200,3400,3600,3800,4000,4200,4400]\n",
    "        }\n",
    "\n",
    "hyper_param = list(product(*h_param.values()))\n",
    "j=0\n",
    "accuracy = []\n",
    "for i in hyper_param:\n",
    "        model = multinomial_logistic_regration(learning_rate=i[0], epoch=i[1])\n",
    "        model.fit(X_train=X_train_norm_df,Y_train=Y_train)\n",
    "        acc = model.Accuracy(X_valid_norm_df,Y_valid)\n",
    "        l = model.loss[-1]\n",
    "        wandb.log({'Accuracy' : acc, \"Loss\":l, \"Hyper parameters\":j})\n",
    "        j = j+1\n",
    "        accuracy.append(acc)\n",
    "        \n",
    "# [optional] finish the wandb run, necessary in notebooks\n",
    "wandb.finish()\n"
   ]
  },
  {
   "cell_type": "code",
   "execution_count": 59,
   "metadata": {},
   "outputs": [
    {
     "data": {
      "text/plain": [
       "Text(0.5, 1.0, 'Accuracy for different hyper parameters')"
      ]
     },
     "execution_count": 59,
     "metadata": {},
     "output_type": "execute_result"
    },
    {
     "data": {
      "image/png": "[encoded data removed]",
      "text/plain": [
       "<Figure size 640x480 with 1 Axes>"
      ]
     },
     "metadata": {},
     "output_type": "display_data"
    }
   ],
   "source": [
    "plt.plot(accuracy)\n",
    "plt.xlabel('hyper paramerters')\n",
    "plt.ylabel('Accuracy')\n",
    "plt.title(\"Accuracy for different hyper parameters\")"
   ]
  },
  {
   "cell_type": "code",
   "execution_count": 60,
   "metadata": {},
   "outputs": [
    {
     "name": "stdout",
     "output_type": "stream",
     "text": [
      "The maximum accuracy = 0.6162790697674418 \n",
      "We get this accuracy for this hyperparameters\n",
      "(Learning rate, epochs, Hidden layer nodes, activation function, optomizer): (0.002, 1600).\n"
     ]
    }
   ],
   "source": [
    "Max_accu_hy_param_index = np.argmax(accuracy)\n",
    "accuracy[Max_accu_hy_param_index]\n",
    "hyper_param[Max_accu_hy_param_index]\n",
    "print(f\"The maximum accuracy = {accuracy[Max_accu_hy_param_index]} \\nWe get this accuracy for this hyperparameters\\n(Learning rate, epochs, Hidden layer nodes, activation function, optomizer): {hyper_param[Max_accu_hy_param_index]}.\")"
   ]
  },
  {
   "cell_type": "markdown",
   "metadata": {},
   "source": [
    "### 1.3.2 Classifiction report for test dataset"
   ]
  },
  {
   "cell_type": "code",
   "execution_count": 61,
   "metadata": {},
   "outputs": [
    {
     "name": "stdout",
     "output_type": "stream",
     "text": [
      "              precision    recall  f1-score   support\n",
      "\n",
      "           4       1.00      0.00      0.00         3\n",
      "           5       0.75      0.76      0.75        79\n",
      "           6       0.63      0.73      0.68        71\n",
      "           7       0.22      0.13      0.17        15\n",
      "           8       0.00      0.00      1.00         4\n",
      "\n",
      "    accuracy                           0.66       172\n",
      "   macro avg       0.52      0.33      0.52       172\n",
      "weighted avg       0.64      0.66      0.67       172\n",
      "\n"
     ]
    }
   ],
   "source": [
    "i = hyper_param[Max_accu_hy_param_index]\n",
    "model = multinomial_logistic_regration(learning_rate=i[0], epoch=i[1])\n",
    "model.fit(X_train=X_train_norm_df,Y_train=Y_train)\n",
    "\n",
    "target_names = ['4', '5', '6', '7', '8']\n",
    "# target_names = model.classes\n",
    "Y_pred = model.predict_classes(X_test_norm_df)\n",
    "print(classification_report(Y_test, Y_pred, target_names=target_names,zero_division=True))"
   ]
  },
  {
   "cell_type": "markdown",
   "metadata": {},
   "source": [
    "Accuracy on train dataset"
   ]
  },
  {
   "cell_type": "code",
   "execution_count": 62,
   "metadata": {},
   "outputs": [
    {
     "name": "stdout",
     "output_type": "stream",
     "text": [
      "Accuracy: 0.6220275344180225\n"
     ]
    }
   ],
   "source": [
    "print('Accuracy:',model.Accuracy(X_train_norm_df,Y_train))"
   ]
  },
  {
   "cell_type": "markdown",
   "metadata": {},
   "source": [
    "The accuracy of the train dataset shows that model is not overfitted"
   ]
  },
  {
   "cell_type": "markdown",
   "metadata": {},
   "source": [
    "# Question: 2"
   ]
  },
  {
   "cell_type": "code",
   "execution_count": 63,
   "metadata": {},
   "outputs": [
    {
     "name": "stdout",
     "output_type": "stream",
     "text": [
      "Shape of the train, test and validaton data: (799, 11) (172, 11) (172, 11)\n",
      "Shape of the train, test and validaton label: (799, 6) (172, 6) (172, 6)\n",
      "Shape of the train, test and validaton data:\n",
      "(799, 11) (172, 11) (172, 11)\n"
     ]
    }
   ],
   "source": [
    "X_data_m = pd.read_csv('WineQT.csv')\n",
    "X_data = X_data_m.drop(\"Id\",axis=1)\n",
    "Y_data = X_data['quality']\n",
    "X_data = X_data.drop('quality',axis=1)\n",
    "\n",
    "classes, classes_indices = np.unique(Y_data, return_inverse=True)\n",
    "#one-hot\n",
    "Y_one_hot = np.eye(len(classes))[classes_indices]\n",
    "X_train_t, X_test, Y_train_t, Y_test = train_test_split(X_data,Y_one_hot,test_size=0.15,random_state=1)\n",
    "X_train, X_valid,Y_train, Y_valid = train_test_split(X_train_t,Y_train_t,test_size=0.177,random_state=1)\n",
    "print(\"Shape of the train, test and validaton data:\",X_train.shape,X_test.shape,X_valid.shape)\n",
    "print(\"Shape of the train, test and validaton label:\",Y_train.shape,Y_test.shape,Y_valid.shape)\n",
    "\n",
    "X_train_norm = preprocessing.normalize(X_train,axis=0)\n",
    "X_test_norm = preprocessing.normalize(X_test,axis=0)\n",
    "X_valid_norm = preprocessing.normalize(X_valid,axis=0)\n",
    "std = preprocessing.StandardScaler()\n",
    "X_train_norm = std.fit_transform(X=X_train_norm)\n",
    "X_test_norm = std.fit_transform(X=X_test_norm)\n",
    "X_valid_norm = std.fit_transform(X=X_valid_norm)\n",
    "\n",
    "X_train_norm_df = pd.DataFrame(X_train_norm,columns= X_data.columns)\n",
    "X_test_norm_df = pd.DataFrame(X_test_norm,columns= X_data.columns)\n",
    "X_valid_norm_df = pd.DataFrame(X_valid_norm,columns= X_data.columns)\n",
    "\n",
    "print(\"Shape of the train, test and validaton data:\")\n",
    "print(X_train_norm_df.shape,X_test_norm_df.shape,X_valid_norm_df.shape)\n"
   ]
  },
  {
   "cell_type": "markdown",
   "metadata": {},
   "source": [
    "## 2.1 "
   ]
  },
  {
   "cell_type": "markdown",
   "metadata": {},
   "source": [
    "Model Class where we can modify and access the learning rate, activation function, optimisers, number of hidden layers and neurons.       \n",
    "Model Class include the forward propagation, backpropagation, and training."
   ]
  },
  {
   "cell_type": "code",
   "execution_count": 79,
   "metadata": {},
   "outputs": [],
   "source": [
    "class multi_layer_perceptron_classification:\n",
    "    def __init__(self, learning_rate, activation_function,input_size,output_size, hidden_layers = [8], optimiser = 'MBGD',batch_size = 100):\n",
    "        self.learning_rate = learning_rate\n",
    "        self.activation_function = activation_function\n",
    "        self.input_size = input_size              # no of features in the input dataset\n",
    "        self.output_size = output_size\n",
    "        self.hidden_layers = hidden_layers\n",
    "        self.optimiser = optimiser\n",
    "        self.batch_size = batch_size\n",
    "        self.weights, self.biases = self.intialize_weight_and_bias()\n",
    "        self.loss = None\n",
    "    def fit(self,X,y,epochs = 1000):\n",
    "      \n",
    "        if self.output_size == 1:\n",
    "            loss_function = self.binary_cross_entropy_loss\n",
    "        else:\n",
    "            loss_function = self.categorical_cross_entropy_loss\n",
    "\n",
    "        for epoch in range(epochs):\n",
    "\n",
    "            if self.optimiser=='BGD':\n",
    "                output, activations = self.forward(X)\n",
    "                self.backward(X, y, output, activations)\n",
    "\n",
    "            elif self.optimiser=='MBGD':\n",
    "                output = np.empty((0, self.output_size))\n",
    "                num_batches = X.shape[0] // self.batch_size\n",
    "                X_batches = np.array_split(X, num_batches)\n",
    "                Y_batches = np.array_split(y,num_batches)\n",
    "\n",
    "                for i in range(num_batches):\n",
    "                    X_batche = X_batches[i]\n",
    "                    Y_batche = Y_batches[i]\n",
    "                    out, activations = self.forward(X_batche)\n",
    "                    self.backward(X_batche, Y_batche, out, activations)\n",
    "                    output = np.append(output, out, axis=0)\n",
    "\n",
    "            elif self.optimiser=='SGD':\n",
    "                output = np.empty((0, self.output_size))\n",
    "                num_batches = X.shape[0] // 1\n",
    "                X_batches = np.array_split(X, num_batches)\n",
    "                Y_batches = np.array_split(y,num_batches)\n",
    "                for i in range(X.shape[0]):\n",
    "                    out, activations = self.forward(X_batches[i])\n",
    "                    self.backward(X_batches[i], Y_batches[i], out, activations)\n",
    "                    output = np.append(output, out, axis=0)\n",
    "\n",
    "            else:\n",
    "                raise ValueError(\"Invalid optimizer!\")\n",
    "            self.loss = loss_function(y, output)\n",
    "            # if epoch % 100 == 0:\n",
    "            #     print(f\"Epoch {epoch}, Loss: {loss}\")\n",
    "            \n",
    "    def intialize_weight_and_bias(self):\n",
    "        weights = []\n",
    "        biases = []\n",
    "        weight = np.random.randn(self.input_size, self.hidden_layers[0])\n",
    "        bias = np.zeros((self.hidden_layers[0],1))\n",
    "        weights.append(weight)\n",
    "        biases.append(bias)\n",
    "        np.random.seed(42)\n",
    "\n",
    "        for i in range(1, len(self.hidden_layers)):\n",
    "            weight = np.random.randn(self.hidden_layers[i-1], self.hidden_layers[i])\n",
    "            bias = np.zeros((self.hidden_layers[i],1))\n",
    "            weights.append(weight)\n",
    "            biases.append(bias)\n",
    "    \n",
    "        weight = np.random.randn(self.hidden_layers[-1],self.output_size)\n",
    "        bias = np.zeros((self.output_size,1))\n",
    "        weights.append(weight)\n",
    "        biases.append(bias)\n",
    "\n",
    "        return weights, biases\n",
    "\n",
    "    def forward(self, X_train):\n",
    "        activations = []  #output of layears\n",
    "        layer_input = X_train #inpute of all layears\n",
    "\n",
    "        for i in range(len(self.hidden_layers)):\n",
    "            weighted_sum = np.dot(layer_input ,self.weights[i])\n",
    "            weighted_sum_n = weighted_sum + np.array(self.biases[i]).T     #check\n",
    "            activation = self.activation_func(weighted_sum_n)\n",
    "            \n",
    "            activations.append(activation)\n",
    "            layer_input = activation\n",
    "\n",
    "        output = np.dot(layer_input,self.weights[-1])\n",
    "        output += np.array(self.biases[-1]).T   #check\n",
    "        if self.output_size == 1:\n",
    "            output = self.sigmoid(output)\n",
    "        else:\n",
    "            output = self.softmax(output)\n",
    "        \n",
    "        return output, activations\n",
    "\n",
    "    def softmax(self,X):\n",
    "        exp_X = np.exp(X - np.max(X))  # Stability fix\n",
    "        return exp_X / np.sum(exp_X, axis=1, keepdims=True).reshape(-1,1)\n",
    "\n",
    "    def activation_func(self, weighted_sum):\n",
    "        if self.activation_function == 'ReLU':\n",
    "            return np.maximum(0, weighted_sum)\n",
    "\n",
    "        elif (self.activation_function == 'Sigmoid'):\n",
    "            return 1 / (1 + np.exp(-weighted_sum))\n",
    "\n",
    "        elif (self.activation_function == 'Tanh'):\n",
    "            return np.tanh(weighted_sum)\n",
    "\n",
    "        else:\n",
    "            raise ValueError(\"Invalid Activation Function.\")\n",
    "            return \n",
    "\n",
    "    def activation_func_derivative(self,X):\n",
    "        if self.activation_function == 'ReLU' :\n",
    "            return (X > 0).astype(float)\n",
    "\n",
    "        elif (self.activation_function == 'Sigmoid'):\n",
    "            return X * (1 - X)\n",
    "\n",
    "        elif (self.activation_function == 'Tanh'):\n",
    "            return (1 - X**2)\n",
    "\n",
    "        else:\n",
    "            raise ValueError(\"Invalid Activation Function.\")\n",
    "            return \n",
    "\n",
    "    def backward(self,X,Y, output, activations):\n",
    "        gradient_weights = []\n",
    "        gradient_biases = []\n",
    "\n",
    "        if self.output_size==1:\n",
    "            error_delta = output-Y\n",
    "        else:\n",
    "            error_delta = output-Y\n",
    "        gradient_weight = np.dot(activations[-1].T,error_delta)\n",
    "        gradient_bias = np.sum(error_delta.T,axis=1,keepdims=True)\n",
    "\n",
    "        gradient_weights.append(gradient_weight)\n",
    "        gradient_biases.append(gradient_bias)\n",
    "\n",
    "        for i in range(len(self.hidden_layers), 0, -1):\n",
    "            error = np.dot( error_delta, self.weights[i].T)\n",
    "\n",
    "            activation_derivative = self.activation_func_derivative(activations[i-1])\n",
    "\n",
    "            error_delta = error * activation_derivative\n",
    "            gradient_weight = np.dot(activations[i - 2].T, error_delta) if (i-1) > 0 else np.dot(X.T,error_delta)\n",
    "            gradient_bias = np.sum(error_delta.T, axis=1, keepdims=True)\n",
    "\n",
    "            gradient_weights.append(gradient_weight)\n",
    "            gradient_biases.append(gradient_bias)\n",
    "\n",
    "        for i in range(len(self.hidden_layers)+1):\n",
    "            self.weights[i] -= self.learning_rate * gradient_weights[len(self.hidden_layers)-i]\n",
    "            self.biases[i] -= self.learning_rate * gradient_biases[len(self.hidden_layers)-i]\n",
    "        # print(self.weights[1])\n",
    "    def binary_cross_entropy_loss(self, y_true, y_pred):\n",
    "        epsilon = 1e-14  # Small constant to prevent log(0)\n",
    "        return -np.mean(y_true * np.log(y_pred + epsilon) + (1 - y_true) * np.log(1 - y_pred + epsilon))\n",
    "\n",
    "    def categorical_cross_entropy_loss(self, y_true, y_pred):\n",
    "        epsilon = 1e-14  # Small constant to prevent log(0)\n",
    "        return -np.sum(y_true * np.log(y_pred + epsilon)) / len(y_true)\n",
    "\n",
    "    def predict_classes(self,X_test):\n",
    "        output, _ = self.forward(X_test)\n",
    "        if self.output_size == 1:\n",
    "            return (output >= 0.5).astype(int)\n",
    "        else:\n",
    "            return np.argmax(output, axis=1)\n",
    "\n",
    "    def Accuracy(self, X_test, Y_test):\n",
    "        y_pred = self.predict_classes(X_test)\n",
    "        Y_t = np.argmax(Y_test, axis=1)\n",
    "        return np.mean(y_pred == Y_t)\n"
   ]
  },
  {
   "cell_type": "code",
   "execution_count": 80,
   "metadata": {},
   "outputs": [],
   "source": [
    "model = multi_layer_perceptron_classification(learning_rate=0.01, activation_function = 'Tanh',input_size = 11,output_size = 6, hidden_layers = [8])\n",
    "model.fit(X_train_norm_df,Y_train)\n"
   ]
  },
  {
   "cell_type": "code",
   "execution_count": 81,
   "metadata": {},
   "outputs": [
    {
     "data": {
      "text/plain": [
       "0.5406976744186046"
      ]
     },
     "execution_count": 81,
     "metadata": {},
     "output_type": "execute_result"
    }
   ],
   "source": [
    "model.Accuracy(X_test=X_valid_norm_df, Y_test=Y_valid)\n"
   ]
  },
  {
   "cell_type": "code",
   "execution_count": 82,
   "metadata": {},
   "outputs": [
    {
     "data": {
      "text/plain": [
       "0.7449402236482392"
      ]
     },
     "execution_count": 82,
     "metadata": {},
     "output_type": "execute_result"
    }
   ],
   "source": [
    "model.loss"
   ]
  },
  {
   "cell_type": "code",
   "execution_count": 83,
   "metadata": {},
   "outputs": [
    {
     "name": "stdout",
     "output_type": "stream",
     "text": [
      "              precision    recall  f1-score   support\n",
      "\n",
      "           0       1.00      0.00      0.00         2\n",
      "           1       0.00      0.00      1.00         6\n",
      "           2       0.68      0.64      0.66        72\n",
      "           3       0.45      0.61      0.51        61\n",
      "           4       0.62      0.36      0.45        28\n",
      "           5       1.00      0.00      0.00         3\n",
      "\n",
      "    accuracy                           0.54       172\n",
      "   macro avg       0.62      0.27      0.44       172\n",
      "weighted avg       0.57      0.54      0.57       172\n",
      "\n"
     ]
    }
   ],
   "source": [
    "target_names = ['0','1', '2', '3', '4', '5']\n",
    "\n",
    "Y_pred = model.predict_classes(X_valid_norm_df)\n",
    "Y_t = np.argmax(Y_valid, axis=1)\n",
    "print(classification_report(Y_t, Y_pred, target_names=target_names,zero_division=True))"
   ]
  },
  {
   "cell_type": "markdown",
   "metadata": {},
   "source": [
    "## 2.2 "
   ]
  },
  {
   "cell_type": "markdown",
   "metadata": {},
   "source": [
    "2.2.1. Log scores - loss and accuracy on W&B                 \n",
    "2.2.2. Report metrics: accuracy, f-1 score, precision, and recall        \n",
    "2.2.3. Report the scores for combination of Activation functions and Optimizers.       \n",
    "2.2.4. Tune model on various hyperparameters, such as learning rate, epochs,\n",
    "and hidden layer neurons. 1.Accuracy score plot, 2.Report metrics(sklearn), 3.find best model paramenters "
   ]
  },
  {
   "cell_type": "code",
   "execution_count": null,
   "metadata": {},
   "outputs": [],
   "source": [
    "#2.2.4\n",
    "import wandb\n",
    "import random\n",
    "\n",
    "# start a new wandb run to track this script\n",
    "wandb.init(project=\"Q-2.2.4 MLP hyperparameters tunining\")\n",
    "\n",
    "from itertools import product\n",
    "h_param = {\n",
    "        'learning_rate': [0.01,0.005, 0.001,0.0005],\n",
    "        'epochs' : [1000,1500,2000,3000,4000],\n",
    "        'hidden_layer_neurons': [[8],[10],[13],[16]],\n",
    "        'activation_functions' : ['ReLU'],\n",
    "        'optimization_techniques' : ['MBGD']\n",
    "        }\n",
    "\n",
    "hyper_param = list(product(*h_param.values()))\n",
    "J=0\n",
    "accuracy = []\n",
    "target_names = ['0','1', '2', '3', '4', '5']\n",
    "for i in hyper_param:\n",
    "    model = multi_layer_perceptron_classification(learning_rate=i[0], hidden_layers = i[2],activation_function = i[3],optimiser=i[4],input_size = 11,output_size = 6)\n",
    "    model.fit(X_train_norm_df,Y_train,epochs=i[1])\n",
    "    acc = model.Accuracy(X_test=X_valid_norm_df, Y_test=Y_valid,)\n",
    "    wandb.log({\"Hyper parameters pair\":J,\"accuracy\": acc, \"loss\": model.loss})\n",
    "    Y_pred = model.predict_classes(X_valid_norm_df)\n",
    "    Y_t = np.argmax(Y_valid, axis=1)\n",
    "    print('Hyperparameters',i)\n",
    "    print(classification_report(Y_t, Y_pred, target_names=target_names,zero_division=True))\n",
    "    J+=1\n",
    "    accuracy.append(acc)\n",
    "wandb.finish()"
   ]
  },
  {
   "cell_type": "code",
   "execution_count": 88,
   "metadata": {},
   "outputs": [
    {
     "data": {
      "text/plain": [
       "Text(0.5, 1.0, 'Accuracy for different hyper parameters')"
      ]
     },
     "execution_count": 88,
     "metadata": {},
     "output_type": "execute_result"
    },
    {
     "data": {
      "image/png": "[encoded data removed]",
      "text/plain": [
       "<Figure size 640x480 with 1 Axes>"
      ]
     },
     "metadata": {},
     "output_type": "display_data"
    }
   ],
   "source": [
    "plt.plot(accuracy)\n",
    "plt.xlabel('hyper paramerters')\n",
    "plt.ylabel('Accuracy')\n",
    "plt.title(\"Accuracy for different hyper parameters\")"
   ]
  },
  {
   "cell_type": "code",
   "execution_count": 90,
   "metadata": {},
   "outputs": [
    {
     "name": "stdout",
     "output_type": "stream",
     "text": [
      "The maximum accuracy = 0.6104651162790697 \n",
      "We get this accuracy for this hyperparameters\n",
      "(Learning rate, epochs, Hidden layer nodes, activation function, optomizer): (0.001, 1500, [10], 'ReLU', 'MBGD').\n"
     ]
    }
   ],
   "source": [
    "Max_accu_hy_param_index = np.argmax(accuracy)\n",
    "accuracy[Max_accu_hy_param_index]\n",
    "hyper_param[Max_accu_hy_param_index]\n",
    "print(f\"The maximum accuracy = {accuracy[Max_accu_hy_param_index]} \\nWe get this accuracy for this hyperparameters\\n(Learning rate, epochs, Hidden layer nodes, activation function, optomizer): {hyper_param[Max_accu_hy_param_index]}.\")"
   ]
  },
  {
   "cell_type": "markdown",
   "metadata": {},
   "source": [
    "### Classification report for the best accuracy hyperparameteres"
   ]
  },
  {
   "cell_type": "code",
   "execution_count": 99,
   "metadata": {},
   "outputs": [
    {
     "name": "stdout",
     "output_type": "stream",
     "text": [
      "classification report for the best accuracy model\n",
      "              precision    recall  f1-score   support\n",
      "\n",
      "           0       1.00      0.00      0.00         2\n",
      "           1       1.00      0.00      0.00         6\n",
      "           2       0.70      0.64      0.67        72\n",
      "           3       0.52      0.75      0.61        61\n",
      "           4       0.76      0.46      0.58        28\n",
      "           5       1.00      0.00      0.00         3\n",
      "\n",
      "    accuracy                           0.61       172\n",
      "   macro avg       0.83      0.31      0.31       172\n",
      "weighted avg       0.66      0.61      0.59       172\n",
      "\n"
     ]
    }
   ],
   "source": [
    "target_names = ['0','1', '2', '3', '4', '5']\n",
    "i = hyper_param[Max_accu_hy_param_index]\n",
    "model = multi_layer_perceptron_classification(learning_rate=i[0], hidden_layers = i[2],activation_function = i[3],optimiser=i[4],input_size = 11,output_size = 6)\n",
    "model.fit(X_train_norm_df,Y_train,epochs=i[1])\n",
    "Y_pred = model.predict_classes(X_valid_norm_df)\n",
    "Y_t = np.argmax(Y_valid, axis=1)\n",
    "print(\"classification report for the best accuracy model\")\n",
    "print(classification_report(Y_t, Y_pred, target_names=target_names,zero_division=True))"
   ]
  },
  {
   "cell_type": "code",
   "execution_count": null,
   "metadata": {},
   "outputs": [],
   "source": [
    "#2.2.3\n",
    "import wandb\n",
    "import random\n",
    "\n",
    "# start a new wandb run to track this script\n",
    "wandb.init(project=\"Q-2.2.3 MLP hyperparameters tunining\")\n",
    "\n",
    "from itertools import product\n",
    "h_param = {\n",
    "        'learning_rate': [0.001],\n",
    "        'epochs' : [1500],\n",
    "        'hidden_layer_neurons': [[10]],\n",
    "        'activation_functions' : ['ReLU', 'Sigmoid', 'Tanh'],\n",
    "        'optimization_techniques' : ['BGD', 'MBGD','SGD']\n",
    "        }\n",
    "\n",
    "hyper_param = list(product(*h_param.values()))\n",
    "J=0\n",
    "accuracy = []\n",
    "target_names = ['0','1', '2', '3', '4', '5']\n",
    "for i in hyper_param:\n",
    "    model = multi_layer_perceptron_classification(learning_rate=i[0], hidden_layers = i[2],activation_function = i[3],optimiser=i[4],input_size = 11,output_size = 6)\n",
    "    model.fit(X_train_norm_df,Y_train,epochs=i[1])\n",
    "    acc = model.Accuracy(X_test=X_valid_norm_df, Y_test=Y_valid,)\n",
    "    wandb.log({\"Hyper parameters pair\":J,\"accuracy\": acc, \"loss\": model.loss})\n",
    "    Y_pred = model.predict_classes(X_valid_norm_df)\n",
    "    Y_t = np.argmax(Y_valid, axis=1)\n",
    "    print('Hyperparameters',i)\n",
    "    print(classification_report(Y_t, Y_pred, target_names=target_names,zero_division=True))\n",
    "    J+=1\n",
    "    accuracy.append(acc)\n",
    "wandb.finish()"
   ]
  },
  {
   "cell_type": "code",
   "execution_count": 102,
   "metadata": {},
   "outputs": [
    {
     "name": "stdout",
     "output_type": "stream",
     "text": [
      "The maximum accuracy = 0.6104651162790697 \n",
      "We get this accuracy for this hyperparameters\n",
      "(Learning rate, epochs, Hidden layer nodes, activation function, optomizer): (0.001, 1500, [10], 'Sigmoid', 'MBGD').\n"
     ]
    }
   ],
   "source": [
    "Max_accu_hy_param_index = np.argmax(accuracy)\n",
    "accuracy[Max_accu_hy_param_index]\n",
    "hyper_param[Max_accu_hy_param_index]\n",
    "print(f\"The maximum accuracy = {accuracy[Max_accu_hy_param_index]} \\nWe get this accuracy for this hyperparameters\\n(Learning rate, epochs, Hidden layer nodes, activation function, optomizer): {hyper_param[Max_accu_hy_param_index]}.\")"
   ]
  },
  {
   "cell_type": "code",
   "execution_count": 106,
   "metadata": {},
   "outputs": [
    {
     "name": "stdout",
     "output_type": "stream",
     "text": [
      "classification report for the best accuracy model\n",
      "Hyperparameters (0.001, 1500, [10], 'Sigmoid', 'MBGD')\n",
      "              precision    recall  f1-score   support\n",
      "\n",
      "           0       1.00      0.00      0.00         2\n",
      "           1       0.00      0.00      1.00         6\n",
      "           2       0.70      0.68      0.69        72\n",
      "           3       0.51      0.70      0.59        61\n",
      "           4       0.76      0.46      0.58        28\n",
      "           5       1.00      0.00      0.00         3\n",
      "\n",
      "    accuracy                           0.61       172\n",
      "   macro avg       0.66      0.31      0.48       172\n",
      "weighted avg       0.63      0.61      0.63       172\n",
      "\n"
     ]
    }
   ],
   "source": [
    "target_names = ['0','1', '2', '3', '4', '5']\n",
    "i = hyper_param[Max_accu_hy_param_index]\n",
    "model = multi_layer_perceptron_classification(learning_rate=i[0], hidden_layers = i[2],activation_function = i[3],optimiser=i[4],input_size = 11,output_size = 6)\n",
    "model.fit(X_train_norm_df,Y_train,epochs=i[1])\n",
    "Y_pred = model.predict_classes(X_valid_norm_df)\n",
    "Y_t = np.argmax(Y_valid, axis=1)\n",
    "print(\"classification report for the best accuracy model\")\n",
    "print('Hyperparameters',i)\n",
    "print(classification_report(Y_t, Y_pred, target_names=target_names,zero_division=True))"
   ]
  },
  {
   "cell_type": "markdown",
   "metadata": {},
   "source": [
    "# 2.3"
   ]
  },
  {
   "cell_type": "markdown",
   "metadata": {},
   "source": [
    "### 2.3.1. Classification report on the test set."
   ]
  },
  {
   "cell_type": "code",
   "execution_count": 107,
   "metadata": {},
   "outputs": [
    {
     "name": "stdout",
     "output_type": "stream",
     "text": [
      "classification report for the test samples\n",
      "Hyperparameters (0.001, 1500, [10], 'Sigmoid', 'MBGD')\n",
      "              precision    recall  f1-score   support\n",
      "\n",
      "           0       1.00      0.00      0.00         3\n",
      "           1       0.73      0.67      0.70        79\n",
      "           2       0.55      0.65      0.60        71\n",
      "           3       0.25      0.27      0.26        15\n",
      "           4       1.00      0.00      0.00         4\n",
      "\n",
      "    accuracy                           0.60       172\n",
      "   macro avg       0.71      0.32      0.31       172\n",
      "weighted avg       0.62      0.60      0.59       172\n",
      "\n"
     ]
    }
   ],
   "source": [
    "target_names = ['0','1', '2', '3', '4']\n",
    "i = hyper_param[Max_accu_hy_param_index]\n",
    "model = multi_layer_perceptron_classification(learning_rate=i[0], hidden_layers = i[2],activation_function = i[3],optimiser=i[4],input_size = 11,output_size = 6)\n",
    "model.fit(X_train_norm_df,Y_train,epochs=i[1])\n",
    "Y_pred = model.predict_classes(X_test_norm_df)\n",
    "Y_t = np.argmax(Y_test, axis=1)\n",
    "print(\"classification report for the test samples\")\n",
    "print('Hyperparameters',i)\n",
    "print(classification_report(Y_t, Y_pred, target_names=target_names,zero_division=True))"
   ]
  },
  {
   "cell_type": "markdown",
   "metadata": {},
   "source": [
    "### 2.3.2. Compare the results with the results of the logistic regression model"
   ]
  },
  {
   "cell_type": "markdown",
   "metadata": {},
   "source": [
    "Table of the logistic regration classification report:\n",
    "        precision    recall  f1-score   support\n",
    "\n",
    "           4       1.00      0.00      0.00         3\n",
    "           5       0.75      0.76      0.75        79\n",
    "           6       0.63      0.73      0.68        71\n",
    "           7       0.22      0.13      0.17        15\n",
    "           8       0.00      0.00      1.00         4\n",
    "\n",
    "    accuracy                           0.66       172\n",
    "   macro avg       0.52      0.33      0.52       172\n",
    "weighted avg       0.64      0.66      0.67       172"
   ]
  },
  {
   "cell_type": "markdown",
   "metadata": {},
   "source": [
    "The accuracy in case of multinomial logistic regration is 0.66 and for MLP it is 0.60.        \n",
    "All the results are almost similar between both  the tables."
   ]
  },
  {
   "cell_type": "markdown",
   "metadata": {},
   "source": [
    "# 2.4"
   ]
  },
  {
   "cell_type": "code",
   "execution_count": 30,
   "metadata": {},
   "outputs": [
    {
     "name": "stdout",
     "output_type": "stream",
     "text": [
      "Data shape: (1000, 10) Label shape: (1000, 8)\n"
     ]
    }
   ],
   "source": [
    "#Multioutput classifiction\n",
    "from sklearn.preprocessing import LabelEncoder\n",
    "from sklearn.preprocessing import MultiLabelBinarizer\n",
    "data_read = pd.read_csv('advertisement.csv')\n",
    "data_read.columns\n",
    "X = data_read.drop(\"labels\",axis = 1)\n",
    "Y = data_read[\"labels\"]\n",
    "column_matrix = np.array(Y)\n",
    "result = [(entry.split()) for entry in column_matrix]\n",
    "\n",
    "mlb = MultiLabelBinarizer()\n",
    "encoded_labels = mlb.fit_transform(result)\n",
    "\n",
    "#simple encoding\n",
    "X = data_read.drop(\"labels\",axis = 1)\n",
    "df = pd.DataFrame(X)\n",
    "categorical_columns = ['gender', 'education', 'married', 'city', 'occupation', 'most bought item']\n",
    "\n",
    "label_encoders = {}\n",
    "encoded_data = df.copy()\n",
    "\n",
    "for col_index in categorical_columns:\n",
    "    le = LabelEncoder()\n",
    "    encoded_column = le.fit_transform(df[col_index])\n",
    "    encoded_data[col_index] = encoded_column\n",
    "    label_encoders[col_index] = le\n",
    "print(\"Data shape:\",encoded_data.shape,\"Label shape:\",encoded_labels.shape)"
   ]
  },
  {
   "cell_type": "code",
   "execution_count": 31,
   "metadata": {},
   "outputs": [
    {
     "name": "stdout",
     "output_type": "stream",
     "text": [
      "Shape of the train, test and validaton data: (700, 10) (150, 10) (150, 10)\n",
      "Shape of the train, test and validaton label: (700, 8) (150, 8) (150, 8)\n",
      "Shape of the train, test and validaton data:\n",
      "(700, 10) (150, 10) (150, 10)\n"
     ]
    }
   ],
   "source": [
    "X_train_t, X_test, Y_train_t, Y_test = train_test_split(encoded_data,encoded_labels,test_size=0.15,random_state=1)\n",
    "X_train, X_valid,Y_train, Y_valid = train_test_split(X_train_t,Y_train_t,test_size=0.176,random_state=1)\n",
    "print(\"Shape of the train, test and validaton data:\",X_train.shape,X_test.shape,X_valid.shape)\n",
    "print(\"Shape of the train, test and validaton label:\",Y_train.shape,Y_test.shape,Y_valid.shape)\n",
    "\n",
    "X_train_norm = preprocessing.normalize(X_train,axis=0)\n",
    "X_test_norm = preprocessing.normalize(X_test,axis=0)\n",
    "X_valid_norm = preprocessing.normalize(X_valid,axis=0)\n",
    "std = preprocessing.StandardScaler()\n",
    "X_train_norm = std.fit_transform(X=X_train_norm)\n",
    "X_test_norm = std.fit_transform(X=X_test_norm)\n",
    "X_valid_norm = std.fit_transform(X=X_valid_norm)\n",
    "\n",
    "X_train_norm_df = pd.DataFrame(X_train_norm,columns= encoded_data.columns)\n",
    "X_test_norm_df = pd.DataFrame(X_test_norm,columns= encoded_data.columns)\n",
    "X_valid_norm_df = pd.DataFrame(X_valid_norm,columns= encoded_data.columns)\n",
    "\n",
    "print(\"Shape of the train, test and validaton data:\")\n",
    "print(X_train_norm_df.shape,X_test_norm_df.shape,X_valid_norm_df.shape)"
   ]
  },
  {
   "cell_type": "code",
   "execution_count": 34,
   "metadata": {},
   "outputs": [],
   "source": [
    "class multi_layer_perceptron_multi_class_classification:\n",
    "    def __init__(self, learning_rate, activation_function,input_size=10,output_size=8, hidden_layers = [8], optimiser = 'MBGD',batch_size = 100):\n",
    "        self.learning_rate = learning_rate\n",
    "        self.activation_function = activation_function\n",
    "        self.input_size = input_size              # no of features in the input dataset\n",
    "        self.output_size = output_size\n",
    "        self.hidden_layers = hidden_layers\n",
    "        self.optimiser = optimiser\n",
    "        self.batch_size = batch_size\n",
    "        self.weights, self.biases = self.intialize_weight_and_bias()\n",
    "        self.loss = None\n",
    "        self.losses = []\n",
    "    def fit(self,X,y,epochs = 1000):\n",
    "      \n",
    "        if self.output_size == 1:\n",
    "            loss_function = self.binary_cross_entropy_loss\n",
    "        else:\n",
    "            loss_function = self.categorical_cross_entropy_loss\n",
    "\n",
    "        for epoch in range(epochs):\n",
    "\n",
    "            if self.optimiser=='BGD':\n",
    "                output, activations = self.forward(X)\n",
    "                self.backward(X, y, output, activations)\n",
    "\n",
    "            elif self.optimiser=='MBGD':\n",
    "                output = np.empty((0, self.output_size))\n",
    "                num_batches = X.shape[0] // self.batch_size\n",
    "                X_batches = np.array_split(X, num_batches)\n",
    "                Y_batches = np.array_split(y,num_batches)\n",
    "\n",
    "                for i in range(num_batches):\n",
    "                    X_batche = X_batches[i]\n",
    "                    Y_batche = Y_batches[i]\n",
    "                    out, activations = self.forward(X_batche)\n",
    "                    self.backward(X_batche, Y_batche, out, activations)\n",
    "                    output = np.append(output, out, axis=0)\n",
    "\n",
    "            elif self.optimiser=='SGD':\n",
    "                output = np.empty((0, self.output_size))\n",
    "                num_batches = X.shape[0] // 1\n",
    "                X_batches = np.array_split(X, num_batches)\n",
    "                Y_batches = np.array_split(y,num_batches)\n",
    "                for i in range(X.shape[0]):\n",
    "                    out, activations = self.forward(X_batches[i])\n",
    "                    self.backward(X_batches[i], Y_batches[i], out, activations)\n",
    "                    output = np.append(output, out, axis=0)\n",
    "\n",
    "            else:\n",
    "                raise ValueError(\"Invalid optimizer!\")\n",
    "            self.loss = loss_function(y, output)\n",
    "            self.losses.append(self.loss)\n",
    "            # if epoch % 100 == 0:\n",
    "            #     print(f\"Epoch {epoch}, Loss: {self.loss}\")\n",
    "            \n",
    "    def intialize_weight_and_bias(self):\n",
    "        weights = []\n",
    "        biases = []\n",
    "        weight = np.random.randn(self.input_size, self.hidden_layers[0])\n",
    "        bias = np.zeros((self.hidden_layers[0],1))\n",
    "        weights.append(weight)\n",
    "        biases.append(bias)\n",
    "        np.random.seed(42)\n",
    "\n",
    "        for i in range(1, len(self.hidden_layers)):\n",
    "            weight = np.random.randn(self.hidden_layers[i-1], self.hidden_layers[i])\n",
    "            bias = np.zeros((self.hidden_layers[i],1))\n",
    "            weights.append(weight)\n",
    "            biases.append(bias)\n",
    "    \n",
    "        weight = np.random.randn(self.hidden_layers[-1],self.output_size)\n",
    "        bias = np.zeros((self.output_size,1))\n",
    "        weights.append(weight)\n",
    "        biases.append(bias)\n",
    "\n",
    "        return weights, biases\n",
    "\n",
    "    def forward(self, X_train):\n",
    "        activations = []  #output of layears\n",
    "        layer_input = X_train #inpute of all layears\n",
    "\n",
    "        for i in range(len(self.hidden_layers)):\n",
    "            weighted_sum = np.dot(layer_input ,self.weights[i])\n",
    "            weighted_sum_n = weighted_sum + np.array(self.biases[i]).T     #check\n",
    "            activation = self.activation_func(weighted_sum_n)\n",
    "            \n",
    "            activations.append(activation)\n",
    "            layer_input = activation\n",
    "\n",
    "        output = np.dot(layer_input,self.weights[-1])\n",
    "        output += np.array(self.biases[-1]).T   #check\n",
    "        # if self.output_size == 1:\n",
    "        output = 1 / (1 + np.exp(-output))\n",
    "        # else:\n",
    "            # output = self.softmax(output)\n",
    "        \n",
    "        return output, activations\n",
    "\n",
    "    def softmax(self,X):\n",
    "        exp_X = np.exp(X - np.max(X))  # Stability fix\n",
    "        return exp_X / np.sum(exp_X, axis=1, keepdims=True).reshape(-1,1)\n",
    "\n",
    "    def activation_func(self, weighted_sum):\n",
    "        if self.activation_function == 'ReLU':\n",
    "            return np.maximum(0, weighted_sum)\n",
    "\n",
    "        elif (self.activation_function == 'Sigmoid'):\n",
    "            return 1 / (1 + np.exp(-weighted_sum))\n",
    "\n",
    "        elif (self.activation_function == 'Tanh'):\n",
    "            return np.tanh(weighted_sum)\n",
    "\n",
    "        else:\n",
    "            raise ValueError(\"Invalid Activation Function.\")\n",
    "            return \n",
    "\n",
    "    def activation_func_derivative(self,X):\n",
    "        if self.activation_function == 'ReLU' :\n",
    "            return (X > 0).astype(float)\n",
    "\n",
    "        elif (self.activation_function == 'Sigmoid'):\n",
    "            return X * (1 - X)\n",
    "\n",
    "        elif (self.activation_function == 'Tanh'):\n",
    "            return (1 - X**2)\n",
    "\n",
    "        else:\n",
    "            raise ValueError(\"Invalid Activation Function.\")\n",
    "            return \n",
    "\n",
    "    def backward(self,X,Y, output, activations):\n",
    "        gradient_weights = []\n",
    "        gradient_biases = []\n",
    "\n",
    "        if self.output_size==1:\n",
    "            error_delta = output-Y\n",
    "        else:\n",
    "            error_delta = output-Y\n",
    "        gradient_weight = np.dot(activations[-1].T,error_delta)\n",
    "        gradient_bias = np.sum(error_delta.T,axis=1,keepdims=True)\n",
    "\n",
    "        gradient_weights.append(gradient_weight)\n",
    "        gradient_biases.append(gradient_bias)\n",
    "\n",
    "        for i in range(len(self.hidden_layers), 0, -1):\n",
    "            error = np.dot( error_delta, self.weights[i].T)\n",
    "\n",
    "            activation_derivative = self.activation_func_derivative(activations[i-1])\n",
    "\n",
    "            error_delta = error * activation_derivative\n",
    "            gradient_weight = np.dot(activations[i - 2].T, error_delta) if (i-1) > 0 else np.dot(X.T,error_delta)\n",
    "            gradient_bias = np.sum(error_delta.T, axis=1, keepdims=True)\n",
    "\n",
    "            gradient_weights.append(gradient_weight)\n",
    "            gradient_biases.append(gradient_bias)\n",
    "\n",
    "        for i in range(len(self.hidden_layers)+1):\n",
    "            self.weights[i] -= self.learning_rate * gradient_weights[len(self.hidden_layers)-i]\n",
    "            self.biases[i] -= self.learning_rate * gradient_biases[len(self.hidden_layers)-i]\n",
    "       \n",
    "    def binary_cross_entropy_loss(self, y_true, y_pred):\n",
    "        epsilon = 1e-14  # Small constant to prevent log(0)\n",
    "        return -np.mean(y_true * np.log(y_pred + epsilon) + (1 - y_true) * np.log(1 - y_pred + epsilon))\n",
    "\n",
    "    def categorical_cross_entropy_loss(self, y_true, y_pred):\n",
    "        epsilon = 1e-14  # Small constant to prevent log(0)\n",
    "        return -np.sum(y_true * np.log(y_pred + epsilon)) / len(y_true)\n",
    "\n",
    "    def predict_labels(self,X_test):\n",
    "        output, _ = self.forward(X_test)\n",
    "        return (output >= 0.5).astype(int)\n",
    "        # else:\n",
    "        #     return np.argmax(output, axis=1)\n",
    "\n",
    "    def Accuracy(self, X_test, Y_test):\n",
    "        y_pred = self.predict_labels(X_test)\n",
    "        # Y_t = np.argmax(Y_test, axis=1)\n",
    "        return np.mean(y_pred == Y_t)\n"
   ]
  },
  {
   "cell_type": "code",
   "execution_count": 35,
   "metadata": {},
   "outputs": [],
   "source": [
    "model = multi_layer_perceptron_multi_class_classification(learning_rate = 0.001, activation_function = 'ReLU',input_size=10,\n",
    "output_size=8, hidden_layers = [11], optimiser = 'MBGD',batch_size = 50)\n",
    "model.fit(X_train_norm_df,Y_train,epochs=1500)"
   ]
  },
  {
   "cell_type": "code",
   "execution_count": 36,
   "metadata": {},
   "outputs": [
    {
     "name": "stdout",
     "output_type": "stream",
     "text": [
      "Accuracy_labelwise: 0.058333333333333334\n"
     ]
    }
   ],
   "source": [
    "Y_pred = model.predict_labels(X_valid_norm_df)\n",
    "Accuracy_labelwise = np.mean((Y_pred==Y_valid) & ((Y_pred==1 )| (Y_valid == 1)))\n",
    "# Accuracy np.array(y_p),\n",
    "print('Accuracy_labelwise:',Accuracy_labelwise)"
   ]
  },
  {
   "cell_type": "code",
   "execution_count": 37,
   "metadata": {},
   "outputs": [
    {
     "data": {
      "image/png": "[encoded data removed]",
      "text/plain": [
       "<Figure size 800x600 with 1 Axes>"
      ]
     },
     "metadata": {},
     "output_type": "display_data"
    }
   ],
   "source": [
    "fig = plt.figure(figsize=(8,6))\n",
    "plt.plot(np.arange(len(model.losses)),model.losses)\n",
    "plt.xlabel(\"Epoch\")\n",
    "plt.ylabel(\"Loss\")\n",
    "plt.title(\"Development of loss during training\")\n",
    "plt.show()"
   ]
  },
  {
   "cell_type": "code",
   "execution_count": null,
   "metadata": {},
   "outputs": [],
   "source": [
    "#2.4.2.c\n",
    "import wandb\n",
    "import random\n",
    "\n",
    "# start a new wandb run to track this script\n",
    "wandb.init(project=\"Q-2.4.2 Multi class MLP hyperparameters tunining\")\n",
    "\n",
    "from itertools import product\n",
    "h_param = {\n",
    "        'learning_rate': [0.005, 0.001],\n",
    "        'epochs' : [1500,2000,3000],\n",
    "        'hidden_layer_neurons': [[11],[13]],\n",
    "        'activation_functions' : ['ReLU'],\n",
    "        'optimization_techniques' : ['MBGD']\n",
    "        }\n",
    "\n",
    "hyper_param = list(product(*h_param.values()))\n",
    "J=0\n",
    "accuracy_labelwise = []\n",
    "f1_micro = []\n",
    "f1_macro = []\n",
    "accuracy = []\n",
    "precision_micro = []\n",
    "precision_macro = []\n",
    "cm = []\n",
    "recall_micro = []\n",
    "recall_macro = []\n",
    "for i in hyper_param:\n",
    "    model = multi_layer_perceptron_multi_class_classification(learning_rate = i[0], activation_function = i[3],input_size=10,\n",
    "    output_size=8, hidden_layers = i[2], optimiser = i[4],batch_size = 50)\n",
    "    model.fit(X_train_norm_df,Y_train,epochs=i[1])\n",
    "  \n",
    "    Y_pred = model.predict_labels(X_valid_norm_df)\n",
    "    acc = np.mean((Y_pred==Y_valid) & (Y_valid == 1))\n",
    "    \n",
    "    wandb.log({\"Hyper parameters pair\":J,\"accuracy\": acc, \"loss\": model.loss})\n",
    "    predicted_value = Y_pred\n",
    "    Y_test = Y_valid\n",
    "    accuracy_t= accuracy_score(Y_test, predicted_value,)\n",
    "    f1_t = f1_score(Y_test, predicted_value, average='micro')\n",
    "    f1_t2 = f1_score(Y_test, predicted_value, average='macro')\n",
    "    precision_t = precision_score(Y_test, predicted_value, average='micro', zero_division=1)\n",
    "    precision_t2 = precision_score(Y_test, predicted_value, average='macro', zero_division=1)\n",
    "    recall_t = recall_score(Y_test, predicted_value, average='micro', zero_division=1)\n",
    "    recall_t2 = recall_score(Y_test, predicted_value, average='macro', zero_division=1)\n",
    "\n",
    "    f1_micro.append(f1_t)\n",
    "    f1_macro.append(f1_t2)\n",
    "    accuracy.append(accuracy_t)\n",
    "    precision_micro.append(precision_t)\n",
    "    precision_macro.append(precision_t2)\n",
    "    recall_micro.append(recall_t)\n",
    "    recall_macro.append(recall_t2)\n",
    "    J+=1\n",
    "    accuracy_labelwise.append(acc)\n",
    "data = {'f1_micro': f1_micro, 'f1_macro': f1_macro, 'accuracy': accuracy,\n",
    "'precision_micro': precision_micro,'precision_macro':precision_macro, 'recall_micro': recall_micro, 'recall_macro': recall_macro}\n",
    "df = pd.DataFrame(data)\n",
    "    \n",
    "wandb.finish()\n",
    "df"
   ]
  },
  {
   "cell_type": "code",
   "execution_count": 11,
   "metadata": {},
   "outputs": [
    {
     "data": {
      "text/plain": [
       "Text(0.5, 1.0, 'Accuracy for different hyper parameters')"
      ]
     },
     "execution_count": 11,
     "metadata": {},
     "output_type": "execute_result"
    },
    {
     "data": {
      "image/png": "[encoded data removed]",
      "text/plain": [
       "<Figure size 640x480 with 1 Axes>"
      ]
     },
     "metadata": {},
     "output_type": "display_data"
    }
   ],
   "source": [
    "plt.plot(accuracy_labelwise)\n",
    "plt.xlabel('hyper paramerters')\n",
    "plt.ylabel('Accuracy')\n",
    "plt.title(\"Accuracy for different hyper parameters\")"
   ]
  },
  {
   "cell_type": "code",
   "execution_count": 13,
   "metadata": {},
   "outputs": [
    {
     "name": "stdout",
     "output_type": "stream",
     "text": [
      "The maximum accuracy = 0.0825 \n",
      "We get this accuracy for this hyperparameters\n",
      "(Learning rate, epochs, Hidden layer nodes, activation function, optomizer): (0.005, 2000, [13], 'ReLU', 'MBGD').\n"
     ]
    }
   ],
   "source": [
    "Max_accu_hy_param_index = np.argmax(accuracy_labelwise)\n",
    "print(f\"The maximum accuracy = {accuracy_labelwise[Max_accu_hy_param_index]} \\nWe get this accuracy for this hyperparameters\\n(Learning rate, epochs, Hidden layer nodes, activation function, optomizer): {hyper_param[Max_accu_hy_param_index]}.\")"
   ]
  },
  {
   "cell_type": "code",
   "execution_count": null,
   "metadata": {},
   "outputs": [],
   "source": [
    "#2.4.2.c\n",
    "import wandb\n",
    "import random\n",
    "\n",
    "# start a new wandb run to track this script\n",
    "wandb.init(project=\"Q-2.4.2.c Multi class MLP hyperparameters tunining\")\n",
    "\n",
    "from itertools import product\n",
    "h_param = {\n",
    "        'learning_rate': [0.005],\n",
    "        'epochs' : [2000],\n",
    "        'hidden_layer_neurons': [[13]],\n",
    "        'activation_functions' : ['ReLU', 'Sigmoid', 'Tanh'],\n",
    "        'optimization_techniques' : ['BGD', 'MBGD','SGD']\n",
    "        }\n",
    "\n",
    "hyper_param = list(product(*h_param.values()))\n",
    "J=0\n",
    "accuracy_labelwise = []\n",
    "f1_micro = []\n",
    "f1_macro = []\n",
    "accuracy = []\n",
    "precision_micro = []\n",
    "precision_macro = []\n",
    "cm = []\n",
    "recall_micro = []\n",
    "recall_macro = []\n",
    "for i in hyper_param:\n",
    "    model = multi_layer_perceptron_multi_class_classification(learning_rate = i[0], activation_function = i[3],input_size=10,\n",
    "    output_size=8, hidden_layers = i[2], optimiser = i[4],batch_size = 50)\n",
    "    model.fit(X_train_norm_df,Y_train,epochs=i[1])\n",
    "  \n",
    "    Y_pred = model.predict_labels(X_valid_norm_df)\n",
    "    acc = np.mean((Y_pred==Y_valid) & (Y_valid == 1))\n",
    "    \n",
    "    wandb.log({\"Hyper parameters pair\":J,\"accuracy\": acc, \"loss\": model.loss})\n",
    "    predicted_value = Y_pred\n",
    "    Y_test = Y_valid\n",
    "    accuracy_t= accuracy_score(Y_test, predicted_value,)\n",
    "    f1_t = f1_score(Y_test, predicted_value, average='micro')\n",
    "    f1_t2 = f1_score(Y_test, predicted_value, average='macro')\n",
    "    precision_t = precision_score(Y_test, predicted_value, average='micro', zero_division=1)\n",
    "    precision_t2 = precision_score(Y_test, predicted_value, average='macro', zero_division=1)\n",
    "    recall_t = recall_score(Y_test, predicted_value, average='micro', zero_division=1)\n",
    "    recall_t2 = recall_score(Y_test, predicted_value, average='macro', zero_division=1)\n",
    "\n",
    "    f1_micro.append(f1_t)\n",
    "    f1_macro.append(f1_t2)\n",
    "    accuracy.append(accuracy_t)\n",
    "    precision_micro.append(precision_t)\n",
    "    precision_macro.append(precision_t2)\n",
    "    recall_micro.append(recall_t)\n",
    "    recall_macro.append(recall_t2)\n",
    "    J+=1\n",
    "    accuracy_labelwise.append(acc)\n",
    "data = {'f1_micro': f1_micro, 'f1_macro': f1_macro, 'accuracy': accuracy,\n",
    "'precision_micro': precision_micro,'precision_macro':precision_macro, 'recall_micro': recall_micro, 'recall_macro': recall_macro}\n",
    "df = pd.DataFrame(data)\n",
    "    \n",
    "wandb.finish()\n",
    "df"
   ]
  },
  {
   "cell_type": "code",
   "execution_count": 16,
   "metadata": {},
   "outputs": [
    {
     "name": "stdout",
     "output_type": "stream",
     "text": [
      "The maximum accuracy = 0.08833333333333333 \n",
      "We get this accuracy for this hyperparameters\n",
      "(Learning rate, epochs, Hidden layer nodes, activation function, optomizer): (0.005, 2000, [13], 'Sigmoid', 'BGD').\n"
     ]
    }
   ],
   "source": [
    "Max_accu_hy_param_index = np.argmax(accuracy_labelwise)\n",
    "print(f\"The maximum accuracy = {accuracy_labelwise[Max_accu_hy_param_index]} \\nWe get this accuracy for this hyperparameters\\n(Learning rate, epochs, Hidden layer nodes, activation function, optomizer): {hyper_param[Max_accu_hy_param_index]}.\")"
   ]
  },
  {
   "cell_type": "markdown",
   "metadata": {},
   "source": [
    "### 2.4.3"
   ]
  },
  {
   "cell_type": "markdown",
   "metadata": {},
   "source": [
    "Evaluate your model on the test set and report accuracy, f1 score, precision, and recall."
   ]
  },
  {
   "cell_type": "code",
   "execution_count": 17,
   "metadata": {},
   "outputs": [
    {
     "name": "stdout",
     "output_type": "stream",
     "text": [
      "Accuracy_labelwise: 0.075\n",
      "The results on the the test data for best hyperparameters:\n"
     ]
    },
    {
     "data": {
      "text/html": [
       "<div>\n",
       "<style scoped>\n",
       "    .dataframe tbody tr th:only-of-type {\n",
       "        vertical-align: middle;\n",
       "    }\n",
       "\n",
       "    .dataframe tbody tr th {\n",
       "        vertical-align: top;\n",
       "    }\n",
       "\n",
       "    .dataframe thead th {\n",
       "        text-align: right;\n",
       "    }\n",
       "</style>\n",
       "<table border=\"1\" class=\"dataframe\">\n",
       "  <thead>\n",
       "    <tr style=\"text-align: right;\">\n",
       "      <th></th>\n",
       "      <th>f1_micro</th>\n",
       "      <th>f1_macro</th>\n",
       "      <th>accuracy</th>\n",
       "      <th>precision_micro</th>\n",
       "      <th>precision_macro</th>\n",
       "      <th>recall_micro</th>\n",
       "      <th>recall_macro</th>\n",
       "    </tr>\n",
       "  </thead>\n",
       "  <tbody>\n",
       "    <tr>\n",
       "      <th>0</th>\n",
       "      <td>0.213333</td>\n",
       "      <td>0.145958</td>\n",
       "      <td>0.213333</td>\n",
       "      <td>0.213333</td>\n",
       "      <td>0.14218</td>\n",
       "      <td>0.213333</td>\n",
       "      <td>0.161979</td>\n",
       "    </tr>\n",
       "  </tbody>\n",
       "</table>\n",
       "</div>"
      ],
      "text/plain": [
       "   f1_micro  f1_macro  accuracy  precision_micro  precision_macro  \\\n",
       "0  0.213333  0.145958  0.213333         0.213333          0.14218   \n",
       "\n",
       "   recall_micro  recall_macro  \n",
       "0      0.213333      0.161979  "
      ]
     },
     "execution_count": 17,
     "metadata": {},
     "output_type": "execute_result"
    }
   ],
   "source": [
    "i = hyper_param[Max_accu_hy_param_index]\n",
    "model = multi_layer_perceptron_multi_class_classification(learning_rate = i[0], activation_function = i[3],input_size=10,\n",
    "output_size=8, hidden_layers = i[2], optimiser = i[4],batch_size = 50)\n",
    "model.fit(X_train_norm_df,Y_train,epochs=i[1])\n",
    "\n",
    "Y_pred = model.predict_labels(X_test_norm_df)\n",
    "\n",
    "Accuracy_labelwise = np.mean((Y_pred==Y_test) & (Y_test == 1))\n",
    "print('Accuracy_labelwise:',Accuracy_labelwise)\n",
    "f1_micro = []\n",
    "f1_macro = []\n",
    "accuracy = []\n",
    "precision_micro = []\n",
    "precision_macro = []\n",
    "cm = []\n",
    "recall_micro = []\n",
    "recall_macro = []\n",
    "predicted_value = np.argmax(model.predict_labels(X_valid_norm_df),axis=1).reshape(-1,1)\n",
    "Y_test = np.argmax(Y_valid,axis=1).reshape(-1,1)\n",
    "accuracy_t= accuracy_score(Y_test, predicted_value,)\n",
    "f1_t = f1_score(Y_test, predicted_value, average='micro')\n",
    "f1_t2 = f1_score(Y_test, predicted_value, average='macro')\n",
    "precision_t = precision_score(Y_test, predicted_value, average='micro', zero_division=1)\n",
    "precision_t2 = precision_score(Y_test, predicted_value, average='macro', zero_division=1)\n",
    "recall_t = recall_score(Y_test, predicted_value, average='micro', zero_division=1)\n",
    "recall_t2 = recall_score(Y_test, predicted_value, average='macro', zero_division=1)\n",
    "\n",
    "f1_micro.append(f1_t)\n",
    "f1_macro.append(f1_t2)\n",
    "accuracy.append(accuracy_t)\n",
    "precision_micro.append(precision_t)\n",
    "precision_macro.append(precision_t2)\n",
    "recall_micro.append(recall_t)\n",
    "recall_macro.append(recall_t2)\n",
    "\n",
    "data = {'f1_micro': f1_micro, 'f1_macro': f1_macro, 'accuracy': accuracy,\n",
    "'precision_micro': precision_micro,'precision_macro':precision_macro, 'recall_micro': recall_micro, 'recall_macro': recall_macro}\n",
    "df = pd.DataFrame(data)\n",
    "print(\"The results on the the test data for best hyperparameters:\")\n",
    "df\n"
   ]
  },
  {
   "cell_type": "markdown",
   "metadata": {},
   "source": [
    "# Q-3"
   ]
  },
  {
   "cell_type": "markdown",
   "metadata": {},
   "source": [
    "## Multilayer Perceptron Regression\n"
   ]
  },
  {
   "cell_type": "markdown",
   "metadata": {},
   "source": [
    "## 3.1 Data Preprocessing"
   ]
  },
  {
   "cell_type": "code",
   "execution_count": 39,
   "metadata": {},
   "outputs": [
    {
     "name": "stdout",
     "output_type": "stream",
     "text": [
      "The shape of the data: (506, 14)\n"
     ]
    }
   ],
   "source": [
    "X_data_m = pd.read_csv('HousingData.csv')\n",
    "print(\"The shape of the data:\",X_data_m.shape)\n",
    "#Nan value replaced by mean of the feature\n",
    "for i in X_data_m.columns:\n",
    "    X_data_m[i].fillna(X_data_m[i].mean(), inplace=True)"
   ]
  },
  {
   "cell_type": "markdown",
   "metadata": {},
   "source": [
    "### 3.1.1 mean, standard deviation, min, and max values for all attributes."
   ]
  },
  {
   "cell_type": "code",
   "execution_count": 40,
   "metadata": {},
   "outputs": [
    {
     "name": "stdout",
     "output_type": "stream",
     "text": [
      "               Mean         Std       Max        Min\n",
      "CRIM       3.611874    8.537322   88.9762    0.00632\n",
      "ZN        11.211934   22.898391  100.0000    0.00000\n",
      "INDUS     11.083992    6.692542   27.7400    0.46000\n",
      "CHAS       0.069959    0.249986    1.0000    0.00000\n",
      "NOX        0.554695    0.115763    0.8710    0.38500\n",
      "RM         6.284634    0.701923    8.7800    3.56100\n",
      "AGE       68.518519   27.412339  100.0000    2.90000\n",
      "DIS        3.795043    2.103628   12.1265    1.12960\n",
      "RAD        9.549407    8.698651   24.0000    1.00000\n",
      "TAX      408.237154  168.370495  711.0000  187.00000\n",
      "PTRATIO   18.455534    2.162805   22.0000   12.60000\n",
      "B        356.674032   91.204607  396.9000    0.32000\n",
      "LSTAT     12.715432    7.005806   37.9700    1.73000\n",
      "MEDV      22.532806    9.188012   50.0000    5.00000\n"
     ]
    }
   ],
   "source": [
    "# 3.1.1\n",
    "X_mean = np.mean(X_data_m,axis=0)\n",
    "X_std = np.std(X_data_m,axis=0)\n",
    "X_min = np.min(X_data_m,axis=0)\n",
    "X_max = np.max(X_data_m,axis=0)\n",
    "col = ['Mean','Std','Max','Min']\n",
    "inx = X_data_m.columns\n",
    "data = np.array([X_mean,X_std,X_max,X_min]).T\n",
    "print(pd.DataFrame(data, index=inx, columns=col))"
   ]
  },
  {
   "cell_type": "markdown",
   "metadata": {},
   "source": [
    "### 3.1.2 Graph to show the distribution of the various labels across the entire dataset"
   ]
  },
  {
   "cell_type": "code",
   "execution_count": 41,
   "metadata": {},
   "outputs": [
    {
     "data": {
      "text/plain": [
       "Text(0, 0.5, 'Count')"
      ]
     },
     "execution_count": 41,
     "metadata": {},
     "output_type": "execute_result"
    },
    {
     "data": {
      "image/png": "[encoded data removed]",
      "text/plain": [
       "<Figure size 640x480 with 1 Axes>"
      ]
     },
     "metadata": {},
     "output_type": "display_data"
    }
   ],
   "source": [
    "X_data_m[\"MEDV\"].sort_index().plot(kind='hist')\n",
    "plt.title('Distribution of Quality')\n",
    "plt.xlabel('Quality')\n",
    "plt.ylabel('Count')"
   ]
  },
  {
   "cell_type": "code",
   "execution_count": 21,
   "metadata": {},
   "outputs": [
    {
     "data": {
      "image/png": "[encoded data removed]",
      "text/plain": [
       "<Figure size 1200x900 with 16 Axes>"
      ]
     },
     "metadata": {},
     "output_type": "display_data"
    }
   ],
   "source": [
    "fig, axes = plt.subplots(4,4, figsize = (12,9))\n",
    "i = 0\n",
    "k=0\n",
    "j=0\n",
    "for attribute in X_data_m.columns:\n",
    "    k = k+1\n",
    "    axes[i][j].hist(X_data_m[attribute])\n",
    "    axes[i][j].set_xlabel(attribute)\n",
    "    axes[i][j].set_ylabel(\"counts\")\n",
    "    j = j+1\n",
    "    if k%4 == 0:\n",
    "        i = i+1\n",
    "        j=0\n",
    "\n",
    "plt.tight_layout()\n",
    "plt.show()"
   ]
  },
  {
   "cell_type": "markdown",
   "metadata": {},
   "source": [
    "### 3.1.3 Partition the dataset into train, validation, and test sets"
   ]
  },
  {
   "cell_type": "code",
   "execution_count": 42,
   "metadata": {},
   "outputs": [
    {
     "name": "stdout",
     "output_type": "stream",
     "text": [
      "Shape of the train, test and validaton data: (353, 14) (76, 14) (77, 14)\n",
      "Shape of the train, test and validaton label: (353,) (76,) (77,)\n"
     ]
    }
   ],
   "source": [
    "Y_data = X_data_m['MEDV']\n",
    "X_train_t, X_test, Y_train_t, Y_test = train_test_split(X_data_m,Y_data,test_size=0.15,random_state=1)\n",
    "X_train, X_valid,Y_train, Y_valid = train_test_split(X_train_t,Y_train_t,test_size=0.177,random_state=1)\n",
    "print(\"Shape of the train, test and validaton data:\",X_train.shape,X_test.shape,X_valid.shape)\n",
    "print(\"Shape of the train, test and validaton label:\",Y_train.shape,Y_test.shape,Y_valid.shape)"
   ]
  },
  {
   "cell_type": "markdown",
   "metadata": {},
   "source": [
    "### 3.1.4 Normalise and standarize the dataset"
   ]
  },
  {
   "cell_type": "code",
   "execution_count": 43,
   "metadata": {},
   "outputs": [
    {
     "name": "stdout",
     "output_type": "stream",
     "text": [
      "Shape of the train, test and validaton data:\n",
      "(353, 13) (76, 13) (77, 13)\n"
     ]
    }
   ],
   "source": [
    "X_train_norm = preprocessing.normalize(X_train,axis=0)\n",
    "X_test_norm = preprocessing.normalize(X_test,axis=0)\n",
    "X_valid_norm = preprocessing.normalize(X_valid,axis=0)\n",
    "std = preprocessing.StandardScaler()\n",
    "X_train_norm = std.fit_transform(X=X_train)\n",
    "X_test_norm = std.fit_transform(X=X_test)\n",
    "X_valid_norm = std.fit_transform(X=X_valid)\n",
    "\n",
    "X_train_norm_df = pd.DataFrame(X_train_norm,columns= X_data_m.columns)\n",
    "X_test_norm_df = pd.DataFrame(X_test_norm,columns= X_data_m.columns)\n",
    "X_valid_norm_df = pd.DataFrame(X_valid_norm,columns= X_data_m.columns)\n",
    "\n",
    "Y_train_norm_df = X_train_norm_df[\"MEDV\"]\n",
    "Y_test_norm_df = X_test_norm_df[\"MEDV\"]\n",
    "Y_valid_norm_df = X_valid_norm_df[\"MEDV\"]\n",
    "\n",
    "X_train_norm_df = X_train_norm_df.drop('MEDV',axis=1)\n",
    "X_test_norm_df = X_test_norm_df.drop('MEDV',axis=1)\n",
    "X_valid_norm_df = X_valid_norm_df.drop('MEDV',axis=1)\n",
    "\n",
    "print(\"Shape of the train, test and validaton data:\")\n",
    "print(X_train_norm_df.shape,X_test_norm_df.shape,X_valid_norm_df.shape)\n"
   ]
  },
  {
   "cell_type": "markdown",
   "metadata": {},
   "source": [
    "## 3.2 MLP Regression Implementation from Scratch"
   ]
  },
  {
   "cell_type": "code",
   "execution_count": 44,
   "metadata": {},
   "outputs": [],
   "source": [
    "class multi_layer_perceptron_regression:\n",
    "    def __init__(self, learning_rate, activation_function,input_size,output_size=1, hidden_layers = [8], optimiser = 'MBGD',batch_size = 50):\n",
    "        self.learning_rate = learning_rate\n",
    "        self.activation_function = activation_function\n",
    "        self.input_size = input_size              # no of features in the input dataset\n",
    "        self.output_size = output_size\n",
    "        self.hidden_layers = hidden_layers\n",
    "        self.optimiser = optimiser\n",
    "        self.batch_size = batch_size\n",
    "        self.weights, self.biases = self.intialize_weight_and_bias()\n",
    "        self.loss = None\n",
    "        self.losses = []\n",
    "    def fit(self,X,y,epochs = 500):\n",
    "      \n",
    "        if self.output_size == 1:\n",
    "            loss_function = self.binary_cross_entropy_loss\n",
    "        else:\n",
    "            loss_function = self.categorical_cross_entropy_loss\n",
    "\n",
    "        for epoch in range(epochs):\n",
    "\n",
    "            if self.optimiser=='BGD':\n",
    "                output, activations = self.forward(X)\n",
    "                self.backward(X, y, output, activations)\n",
    "\n",
    "            elif self.optimiser=='MBGD':\n",
    "                output = np.empty((0, self.output_size))\n",
    "                num_batches = X.shape[0] // self.batch_size\n",
    "                X_batches = np.array_split(X, num_batches)\n",
    "                Y_batches = np.array_split(y,num_batches)\n",
    "\n",
    "                for i in range(num_batches):\n",
    "                    X_batche = X_batches[i]\n",
    "                    Y_batche = Y_batches[i]\n",
    "                    out, activations = self.forward(X_batche)\n",
    "                    self.backward(X_batche, Y_batche, out, activations)\n",
    "                    output = np.append(output, out, axis=0)\n",
    "\n",
    "            elif self.optimiser=='SGD':\n",
    "                output = np.empty((0, self.output_size))\n",
    "                num_batches = X.shape[0] // 1\n",
    "                X_batches = np.array_split(X, num_batches)\n",
    "                Y_batches = np.array_split(y,num_batches)\n",
    "                for i in range(X.shape[0]):\n",
    "                    out, activations = self.forward(X_batches[i])\n",
    "                    self.backward(X_batches[i], Y_batches[i], out, activations)\n",
    "                    output = np.append(output, out, axis=0)\n",
    "\n",
    "            else:\n",
    "                raise ValueError(\"Invalid optimizer!\")\n",
    "            self.loss = loss_function(np.array(y).reshape(X.shape[0],1), output)\n",
    "            self.losses.append(self.loss)\n",
    "            # # if epoch % 100 == 0:\n",
    "            #     print(f\"Epoch {epoch}, Loss: {loss}\")\n",
    "            \n",
    "    def intialize_weight_and_bias(self):\n",
    "        weights = []\n",
    "        biases = []\n",
    "        weight = np.random.randn(self.input_size, self.hidden_layers[0])\n",
    "        bias = np.zeros((self.hidden_layers[0],1))\n",
    "        weights.append(weight)\n",
    "        biases.append(bias)\n",
    "        np.random.seed(42)\n",
    "\n",
    "        for i in range(1, len(self.hidden_layers)):\n",
    "            weight = np.random.randn(self.hidden_layers[i-1], self.hidden_layers[i])\n",
    "            bias = np.zeros((self.hidden_layers[i],1))\n",
    "            weights.append(weight)\n",
    "            biases.append(bias)\n",
    "    \n",
    "        weight = np.random.randn(self.hidden_layers[-1],self.output_size)\n",
    "        bias = np.zeros((self.output_size,1))\n",
    "        weights.append(weight)\n",
    "        biases.append(bias)\n",
    "\n",
    "        return weights, biases\n",
    "\n",
    "    def forward(self, X_train):\n",
    "        activations = []  #output of layears\n",
    "        layer_input = X_train #inpute of all layears\n",
    "\n",
    "        for i in range(len(self.hidden_layers)):\n",
    "            weighted_sum = np.dot(layer_input ,self.weights[i])\n",
    "            weighted_sum_n = weighted_sum + np.array(self.biases[i]).T     #check\n",
    "            activation = self.activation_func(weighted_sum_n)\n",
    "            \n",
    "            activations.append(activation)\n",
    "            layer_input = activation\n",
    "\n",
    "        output = np.dot(layer_input,self.weights[-1])\n",
    "        output += np.array(self.biases[-1]).T   #check\n",
    "        # if self.output_size == 1:\n",
    "        #     output = self.sigmoid(output)\n",
    "        # else:\n",
    "        #     output = self.softmax(output)\n",
    "        # print(\"output shape:\",output.shape)\n",
    "        return output, activations\n",
    "\n",
    "    def softmax(self,X):\n",
    "        exp_X = np.exp(X - np.max(X))  # Stability fix\n",
    "        return exp_X / np.sum(exp_X, axis=1, keepdims=True).reshape(-1,1)\n",
    "\n",
    "    def activation_func(self, weighted_sum):\n",
    "        if self.activation_function == 'ReLU':\n",
    "            return np.maximum(0, weighted_sum)\n",
    "\n",
    "        elif (self.activation_function == 'Sigmoid'):\n",
    "            return 1 / (1 + np.exp(-weighted_sum))\n",
    "\n",
    "        elif (self.activation_function == 'Tanh'):\n",
    "            return np.tanh(weighted_sum)\n",
    "\n",
    "        else:\n",
    "            raise ValueError(\"Invalid Activation Function.\")\n",
    "            return \n",
    "\n",
    "    def activation_func_derivative(self,X):\n",
    "        if self.activation_function == 'ReLU' :\n",
    "            return (X > 0).astype(float)\n",
    "\n",
    "        elif (self.activation_function == 'Sigmoid'):\n",
    "            return X * (1 - X)\n",
    "\n",
    "        elif (self.activation_function == 'Tanh'):\n",
    "            return (1 - X**2)\n",
    "\n",
    "        else:\n",
    "            raise ValueError(\"Invalid Activation Function.\")\n",
    "            return \n",
    "\n",
    "    def backward(self,X,Y, output, activations):\n",
    "        gradient_weights = []\n",
    "        gradient_biases = []\n",
    "        error_delta = output-np.array(Y).reshape(X.shape[0],1)\n",
    "        \n",
    "        gradient_weight = np.dot(activations[-1].T,error_delta)\n",
    "        gradient_bias = np.sum(error_delta)\n",
    "\n",
    "        gradient_weights.append(gradient_weight)\n",
    "        gradient_biases.append(gradient_bias)\n",
    "\n",
    "        for i in range(len(self.hidden_layers), 0, -1):\n",
    "            error = np.dot( error_delta, self.weights[i].T)\n",
    "\n",
    "            activation_derivative = self.activation_func_derivative(activations[i-1])\n",
    "            if np.any(np.isnan(error)) or np.any(np.isnan(activation_derivative)):\n",
    "                # Handle the case of NaN values here, for example:\n",
    "                error_delta = np.zeros_like(error)\n",
    "            else:\n",
    "                error_delta = error * activation_derivative\n",
    "\n",
    "            # error_delta = error * activation_derivative\n",
    "            gradient_weight = np.dot(activations[i - 2].T, error_delta) if (i-1) > 0 else np.dot(X.T,error_delta)\n",
    "            gradient_bias = np.sum(error_delta)\n",
    "\n",
    "            gradient_weights.append(gradient_weight)\n",
    "            gradient_biases.append(gradient_bias)\n",
    "\n",
    "        for i in range(len(self.hidden_layers)+1):\n",
    "            self.weights[i] -= self.learning_rate * gradient_weights[len(self.hidden_layers)-i]\n",
    "            self.biases[i] -= self.learning_rate * gradient_biases[len(self.hidden_layers)-i]\n",
    "        # print(self.weights[1])\n",
    "    def binary_cross_entropy_loss(self, y_true, y_pred):\n",
    "        epsilon = 1e-14  # Small constant to prevent log(0 and -ve)\n",
    "        y_pred = np.clip(y_pred, epsilon, 1 - epsilon)  \n",
    "        return -np.mean(y_true * np.log(y_pred) + (1 - y_true) * np.log(1 - y_pred))\n",
    "        \n",
    "    def categorical_cross_entropy_loss(self, y_true, y_pred):\n",
    "        epsilon = 1e-14  # Small constant to prevent log(0)\n",
    "        return -np.sum(y_true * np.log(y_pred + epsilon)) / len(y_true)\n",
    "\n",
    "    def predict_value(self,X_test):\n",
    "        output, _ = self.forward(X_test)\n",
    "        return output\n",
    "\n",
    "    def Mean_square_error(self, X_test, Y_test):\n",
    "        X_test = np.array(X_test)\n",
    "        Y_test = np.array(Y_test).reshape(X_test.shape[0],1)\n",
    "        y_pred = self.predict_value(X_test)\n",
    "        MSE = np.sum((y_pred - Y_test)**2)/Y_test.shape[0]\n",
    "        return MSE\n",
    "    def Root_mean_square_error(self, X_test, Y_test):\n",
    "        MSE = self.Mean_square_error(X_test, Y_test)\n",
    "        return MSE**(0.5)\n",
    "    def Root_squared(self,X_test,Y_test):\n",
    "        X_test = np.array(X_test)\n",
    "        Y_test = np.array(Y_test).reshape(X_test.shape[0],1)\n",
    "        MSE = self.Mean_square_error(X_test, Y_test)\n",
    "        d = np.sum((Y_test-np.mean(Y_test))**2)\n",
    "        return 1-MSE/d"
   ]
  },
  {
   "cell_type": "code",
   "execution_count": 45,
   "metadata": {},
   "outputs": [
    {
     "name": "stdout",
     "output_type": "stream",
     "text": [
      "MSE=0.2670041633940227, RMSE=0.5167244559666425, R_squared=0.9965324134624153\n"
     ]
    }
   ],
   "source": [
    "model = multi_layer_perceptron_regression(learning_rate = 0.0001, activation_function = 'ReLU',input_size = 13,output_size=1, hidden_layers = [9], optimiser = 'MBGD',batch_size = 50)\n",
    "model.fit(X_train_norm_df,Y_train_norm_df, epochs=1000)\n",
    "MSE = model.Mean_square_error(X_valid_norm_df,Y_valid_norm_df)\n",
    "RMSE = model.Root_mean_square_error(X_valid_norm_df,Y_valid_norm_df)\n",
    "R_s = model.Root_squared(X_valid_norm_df,Y_valid_norm_df)\n",
    "print(f\"MSE={MSE}, RMSE={RMSE}, R_squared={R_s}\")"
   ]
  },
  {
   "cell_type": "code",
   "execution_count": 46,
   "metadata": {},
   "outputs": [
    {
     "data": {
      "image/png": "[encoded data removed]",
      "text/plain": [
       "<Figure size 800x600 with 1 Axes>"
      ]
     },
     "metadata": {},
     "output_type": "display_data"
    }
   ],
   "source": [
    "fig = plt.figure(figsize=(8,6))\n",
    "plt.plot(np.arange(len(model.losses)),model.losses)\n",
    "plt.xlabel(\"Epoch\")\n",
    "plt.ylabel(\"Loss\")\n",
    "plt.title(\"Development of loss during training\")\n",
    "plt.show()"
   ]
  },
  {
   "cell_type": "markdown",
   "metadata": {},
   "source": [
    "## 3.3 Model Training & Hyperparameter Tuning using W&B"
   ]
  },
  {
   "cell_type": "code",
   "execution_count": null,
   "metadata": {},
   "outputs": [],
   "source": [
    "#3.3.3\n",
    "import wandb\n",
    "import random\n",
    "\n",
    "# start a new wandb run to track this script\n",
    "wandb.init(project=\"Q-3.3.3a MLP hyperparameters tunining\")\n",
    "\n",
    "from itertools import product\n",
    "h_param = {\n",
    "        'learning_rate': [0.001,0.0005,0.0001],\n",
    "        'epochs' : [2000,3000,4000],\n",
    "        'hidden_layer_neurons': [[13],[17]],\n",
    "        'activation_functions' : ['ReLU'],\n",
    "        'optimization_techniques' : ['MBGD']\n",
    "        }\n",
    "\n",
    "hyper_param = list(product(*h_param.values()))\n",
    "J=0\n",
    "MSE_error = []\n",
    "for i in hyper_param:\n",
    "    model = multi_layer_perceptron_regression(learning_rate=i[0], hidden_layers = i[2],activation_function = i[3],optimiser=i[4],input_size = 13,output_size = 1)\n",
    "    model.fit(X_train_norm_df,Y_train_norm_df,epochs=i[1])\n",
    "    MSE = model.Mean_square_error(X_test=X_valid_norm_df, Y_test=Y_valid_norm_df)\n",
    "    # MSE = model.Mean_square_error(X_valid_norm_df,Y_valid_norm_df)\n",
    "    RMSE = model.Root_mean_square_error(X_valid_norm_df,Y_valid_norm_df)\n",
    "    R_s = model.Root_squared(X_valid_norm_df,Y_valid_norm_df)\n",
    "    l = model.loss\n",
    "    wandb.log({\"Hyper parameters pair\":J,\"MSE\": MSE, \"loss\": l})\n",
    "    J+=1\n",
    "    MSE_error.append(MSE)\n",
    "    print('Hyperparameters',i)\n",
    "    print(f\"MSE={MSE}, RMSE={RMSE}, R_squared={R_s}\")\n",
    "wandb.finish()"
   ]
  },
  {
   "cell_type": "code",
   "execution_count": 49,
   "metadata": {},
   "outputs": [
    {
     "name": "stdout",
     "output_type": "stream",
     "text": [
      "The Minimum MSE = 0.10802566143565258 \n",
      "We get this MSE for this hyperparameters\n",
      "(Learning rate, epochs, Hidden layer nodes, activation function, optomizer): (0.0005, 3000, [17], 'ReLU', 'MBGD').\n"
     ]
    }
   ],
   "source": [
    "for i in range(len(MSE_error)):\n",
    "    if MSE_error[i]== None :\n",
    "        MSE_error[i]==100    #to avoid Nan values\n",
    "Min_MSE_hy_param_index = np.argmin(MSE_error)\n",
    "MSE_error[Min_MSE_hy_param_index]\n",
    "hyper_param[Min_MSE_hy_param_index]\n",
    "print(f\"The Minimum MSE = {MSE_error[Min_MSE_hy_param_index]} \\nWe get this MSE for this hyperparameters\\n(Learning rate, epochs, Hidden layer nodes, activation function, optomizer): {hyper_param[Min_MSE_hy_param_index]}.\")"
   ]
  },
  {
   "cell_type": "code",
   "execution_count": null,
   "metadata": {},
   "outputs": [],
   "source": [
    "#3.3.3\n",
    "import wandb\n",
    "import random\n",
    "\n",
    "# start a new wandb run to track this script\n",
    "wandb.init(project=\"Q-3.3.3b MLP hyperparameters tunining\")\n",
    "\n",
    "from itertools import product\n",
    "h_param = {\n",
    "        'learning_rate': [0.0005],\n",
    "        'epochs' : [3000],\n",
    "        'hidden_layer_neurons': [[17]],\n",
    "        'activation_functions' : ['ReLU', 'Sigmoid', 'Tanh'],\n",
    "        'optimization_techniques' : ['BGD', 'MBGD','SGD']\n",
    "        }\n",
    "\n",
    "hyper_param = list(product(*h_param.values()))\n",
    "J=0\n",
    "MSE_error = []\n",
    "for i in hyper_param:\n",
    "    model = multi_layer_perceptron_regression(learning_rate=i[0], hidden_layers = i[2],activation_function = i[3],optimiser=i[4],input_size = 13,output_size = 1)\n",
    "    model.fit(X_train_norm_df,Y_train_norm_df,epochs=i[1])\n",
    "    MSE = model.Mean_square_error(X_test=X_valid_norm_df, Y_test=Y_valid_norm_df)\n",
    "    RMSE = model.Root_mean_square_error(X_valid_norm_df,Y_valid_norm_df)\n",
    "    R_s = model.Root_squared(X_valid_norm_df,Y_valid_norm_df)\n",
    "    l = model.loss\n",
    "    wandb.log({\"Hyper parameters pair\":J,\"MSE\": MSE, \"loss\": l})\n",
    "    J+=1\n",
    "    MSE_error.append(MSE)\n",
    "    print('Hyperparameters',i)\n",
    "    print(f\"MSE={MSE}, RMSE={RMSE}, R_squared={R_s}\")\n",
    "wandb.finish()"
   ]
  },
  {
   "cell_type": "code",
   "execution_count": 61,
   "metadata": {},
   "outputs": [
    {
     "name": "stdout",
     "output_type": "stream",
     "text": [
      "The Minimum MSE = 0.13783509008981892 \n",
      "We get this MSE for this hyperparameters\n",
      "(Learning rate, epochs, Hidden layer nodes, activation function, optomizer): (0.0005, 3000, [17], 'ReLU', 'MBGD').\n"
     ]
    }
   ],
   "source": [
    "# for i in range(len(MSE_error)):\n",
    "    #if MSE_error[i]== 0 :\n",
    "MSE_error[0]=100    #to avoid 'Nan' values as minimum\n",
    "Min_MSE_hy_param_index = np.argmin(MSE_error)\n",
    "MSE_error[Min_MSE_hy_param_index]\n",
    "hyper_param[Min_MSE_hy_param_index]\n",
    "print(f\"The Minimum MSE = {MSE_error[Min_MSE_hy_param_index]} \\nWe get this MSE for this hyperparameters\\n(Learning rate, epochs, Hidden layer nodes, activation function, optomizer): {hyper_param[Min_MSE_hy_param_index]}.\")"
   ]
  },
  {
   "cell_type": "markdown",
   "metadata": {},
   "source": [
    "## 3.4 Evaluating Model"
   ]
  },
  {
   "cell_type": "markdown",
   "metadata": {},
   "source": [
    "Test your model on the test set and report loss score (MSE, RMSE, Rsquared).\n"
   ]
  },
  {
   "cell_type": "code",
   "execution_count": 62,
   "metadata": {},
   "outputs": [
    {
     "name": "stdout",
     "output_type": "stream",
     "text": [
      "Hyperparameters (0.0005, 3000, [17], 'ReLU', 'MBGD')\n",
      "MSE=0.19274678086522284, RMSE=0.3712614847918094, R_squared=0.9982099338949374\n"
     ]
    }
   ],
   "source": [
    "#3.4\n",
    "i = hyper_param[Min_MSE_hy_param_index]\n",
    "model = multi_layer_perceptron_regression(learning_rate=i[0], hidden_layers = i[2],activation_function = i[3],optimiser=i[4],input_size = 13,output_size = 1)\n",
    "model.fit(X_train_norm_df,Y_train_norm_df,epochs=i[1])\n",
    "MSE = model.Mean_square_error(X_test=X_test_norm_df, Y_test=Y_test_norm_df)\n",
    "RMSE = model.Root_mean_square_error(X_valid_norm_df,Y_valid_norm_df)\n",
    "R_s = model.Root_squared(X_valid_norm_df,Y_valid_norm_df)\n",
    "print('Hyperparameters',i)\n",
    "print(f\"MSE={MSE}, RMSE={RMSE}, R_squared={R_s}\")"
   ]
  }
 ],
 "metadata": {
  "kernelspec": {
   "display_name": "Keras",
   "language": "python",
   "name": "python3"
  },
  "language_info": {
   "codemirror_mode": {
    "name": "ipython",
    "version": 3
   },
   "file_extension": ".py",
   "mimetype": "text/x-python",
   "name": "python",
   "nbconvert_exporter": "python",
   "pygments_lexer": "ipython3",
   "version": "3.10.12"
  }
 },
 "nbformat": 4,
 "nbformat_minor": 2
}
